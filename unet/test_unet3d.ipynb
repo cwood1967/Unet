{
 "cells": [
  {
   "cell_type": "code",
   "execution_count": null,
   "metadata": {},
   "outputs": [],
   "source": [
    "import time\n",
    "import sys\n",
    "\n",
    "sys.path.append('/home/cjw/Code/Unet')\n",
    "#sys.path.append('/media/cjw/PythonLib/Unet')\n",
    "from skimage.io import imread\n",
    "from skimage.transform import resize\n",
    "from matplotlib import pyplot as plt\n",
    "import numpy as np\n",
    "\n",
    "import unet3d\n",
    "\n",
    "%matplotlib inline"
   ]
  },
  {
   "cell_type": "code",
   "execution_count": null,
   "metadata": {},
   "outputs": [],
   "source": [
    "import tensorflow as tf"
   ]
  },
  {
   "cell_type": "code",
   "execution_count": null,
   "metadata": {},
   "outputs": [],
   "source": [
    "params = dict()\n",
    "\n",
    "params['width'] = 256\n",
    "params['height'] = 256\n",
    "params['depth'] = 48\n",
    "params['nchannels'] = 1\n",
    "params['channels'] = [1]\n",
    "params['nepochs'] = [1]\n",
    "params['batchsize'] = [8]\n",
    "params['learning_rate'] = 0.001\n",
    "params['restore'] = False\n",
    "params['latent_size'] = 1\n",
    "params['enc_sizes'] = [[32,3, (2,2,2)], [64, 3, (2,2,2)],\n",
    "                       [128, 3, (2,2,2)], [256, 3, (1,2,2)]]\n",
    "\n",
    "params['dec_sizes'] = [[128,3, (1,2,2)], [64, 3, (2,2,2)],\n",
    "                       [32, 3, (2,2,2)], [params['nchannels'], 3, (2,2,2)]]\n",
    "params['droprate'] = 0.1\n",
    "params['stdev'] = 0.0001"
   ]
  },
  {
   "cell_type": "code",
   "execution_count": null,
   "metadata": {},
   "outputs": [],
   "source": [
    "\n",
    "tf.reset_default_graph()\n",
    "u = unet3d.unet3d(params)\n"
   ]
  },
  {
   "cell_type": "code",
   "execution_count": null,
   "metadata": {},
   "outputs": [],
   "source": [
    "#u.read_images('/ssd1/cjw/Data/Nuclei.tif')\n",
    "u.read_mm('/ssd1/cjw/Data/nuclei.mm', shape=(720, 256, 256, 96, 2))\n",
    "#u.x = u.x[:,:,:,:,:]\n",
    "u.x.shape, u.x.min(), u.x.max()"
   ]
  },
  {
   "cell_type": "code",
   "execution_count": null,
   "metadata": {},
   "outputs": [],
   "source": [
    "b = np.reshape(u.x, (720,48, 2, 256, 256, 2))\n",
    "b0 = b[:,:,:,:,:,0]\n",
    "b1 = b[:,:,:,:,:,1]\n",
    "v0 = b0.mean(axis=2)\n",
    "v1 = b1.max(axis=2)\n"
   ]
  },
  {
   "cell_type": "code",
   "execution_count": null,
   "metadata": {},
   "outputs": [],
   "source": [
    "v = np.stack([v0,v1], axis=-1)\n",
    "print(v0.shape, v1.shape, v.shape)"
   ]
  },
  {
   "cell_type": "code",
   "execution_count": null,
   "metadata": {},
   "outputs": [],
   "source": [
    "if 1 == 0:\n",
    "    count = 1\n",
    "    plt.figure(figsize=(12,48))\n",
    "    for i in range(16):\n",
    "        for j in range(6):\n",
    "            plt.subplot(16,7,count)\n",
    "            plt.imshow(b[23,i, j, :,:, 0])\n",
    "            count += 1\n",
    "        plt.subplot(16,7, count)\n",
    "        plt.imshow(v[23,i, :,:,0])\n",
    "        count += 1\n",
    "#a = u.get_batch(4, augment=True)\n",
    "#ab = u.augment_batch(a)\n",
    "#ab.shape"
   ]
  },
  {
   "cell_type": "code",
   "execution_count": null,
   "metadata": {},
   "outputs": [],
   "source": [
    "u.x = v"
   ]
  },
  {
   "cell_type": "code",
   "execution_count": null,
   "metadata": {},
   "outputs": [],
   "source": [
    "# from scipy.ndimage import rotate\n",
    "# # angle = 90*np.random.randint(0,4)\n",
    "# # print(angle)\n",
    "# # s = a[2]\n",
    "# #ar = rotate(a, 270, (1,2), reshape=False, order=1)\n",
    "# plt.subplot(2,1,1)\n",
    "# plt.imshow(a[1,:,:,47,0])\n",
    "# plt.subplot(2,1,2)\n",
    "# plt.imshow(a[1,:,:,47,1])\n",
    "v0 = None\n",
    "v1 = None\n",
    "b = None"
   ]
  },
  {
   "cell_type": "code",
   "execution_count": null,
   "metadata": {},
   "outputs": [],
   "source": [
    "tf.reset_default_graph()\n",
    "images = tf.placeholder(tf.float32, (None, 48, 256, 256, params['nchannels']))\n",
    "masks = tf.placeholder(tf.float32, (None, 48, 256, 256, params['nchannels']))\n",
    "learning_rate = tf.placeholder(tf.float32, ())\n",
    "u.learning_rate = learning_rate"
   ]
  },
  {
   "cell_type": "code",
   "execution_count": null,
   "metadata": {},
   "outputs": [],
   "source": [
    "enc = u.create_encoder(images, True)"
   ]
  },
  {
   "cell_type": "code",
   "execution_count": null,
   "metadata": {},
   "outputs": [],
   "source": [
    "d = u.create_decoder()\n",
    "u.create_loss(masks)\n",
    "u.create_opt()"
   ]
  },
  {
   "cell_type": "code",
   "execution_count": null,
   "metadata": {},
   "outputs": [],
   "source": []
  },
  {
   "cell_type": "code",
   "execution_count": null,
   "metadata": {},
   "outputs": [],
   "source": [
    "u.set_validation(20)"
   ]
  },
  {
   "cell_type": "code",
   "execution_count": null,
   "metadata": {},
   "outputs": [],
   "source": [
    "tf.summary.scalar('loss', u.loss)\n",
    "si = tf.slice(u.decoder, [5, 0, 0, 0, 0], [10,1,256,256, 1])\n",
    "\n",
    "si = si[:,:,:,:,0]\n",
    "print(si)\n",
    "tf.summary.image('res', si, max_outputs=1)    \n",
    "merged = tf.summary.merge_all()\n",
    "\n",
    "sess = tf.Session()\n",
    "\n",
    "logdir = \"logdir\"\n",
    "logwriter = tf.summary.FileWriter(logdir, sess.graph)"
   ]
  },
  {
   "cell_type": "code",
   "execution_count": null,
   "metadata": {},
   "outputs": [],
   "source": [
    "sess.run(tf.global_variables_initializer())"
   ]
  },
  {
   "cell_type": "code",
   "execution_count": null,
   "metadata": {},
   "outputs": [],
   "source": [
    "u.stdev = 0.02\n",
    "#u.learning_rate = 0.0001"
   ]
  },
  {
   "cell_type": "code",
   "execution_count": null,
   "metadata": {},
   "outputs": [],
   "source": [
    "\n",
    "\n",
    "vx = np.expand_dims(u.xvalid[:,:,:,:,0], -1)\n",
    "vm = np.expand_dims(u.xvalid[:,:,:,:,1], -1) \n",
    "\n",
    "rate = 0.001\n",
    "loss_file = open('progress.dat', 'w', buffering=1)\n",
    "for i in range(4000):\n",
    "    t1 = time.time()\n",
    "    rate = np.maximum(rate*.9991, 0.000001)\n",
    "    batch = u.get_batch(16, augment=False)\n",
    "    bx = np.expand_dims(batch[:,:,:,:,0], -1)\n",
    "    bm = np.expand_dims(batch[:,:,:,:,1], -1)\n",
    "    _, res, err = sess.run([u.opt, u.decoder_sigmoid, u.loss],\n",
    "                           feed_dict={images:bx, masks:bm, learning_rate:rate})\n",
    "    if i % 100 == 0:\n",
    "        vres, verr = sess.run([u.decoder_sigmoid, u.loss],\n",
    "                               feed_dict={images:vx, masks:vm})\n",
    "\n",
    "        zm = vres[0,:,:,:,0].argmax(axis=(-1))\n",
    "        print(err, verr, vres[0,:,:,:,0].min(), vres[0,:,:,:,0].max())\n",
    "        #print(zm)\n",
    "        loss_file.write(\"*******{}, {}\\n\".format(err, verr))\n",
    "        nr = np.random.randint(0,16)\n",
    "        plt.figure(figsize=(12,2))\n",
    "        plt.subplot(1,6,1)\n",
    "        plt.imshow(res[nr,24,:,:,0])\n",
    "        plt.subplot(1,6,2)\n",
    "        plt.imshow(bm[nr,24,:,:,0])\n",
    "        plt.subplot(1,6,3)\n",
    "        plt.imshow(bx[nr,24,:,:,0])\n",
    "        plt.subplot(1,6,4)\n",
    "        plt.imshow(vres[nr,24,:,:,0])\n",
    "        plt.subplot(1,6,5)\n",
    "        plt.imshow(vm[nr,24,:,:,0])\n",
    "        plt.subplot(1,6,6)\n",
    "        plt.imshow(vx[nr,24,:,:,0])\n",
    "        plt.show()\n",
    "        #plt.savefig(\"images/image{0:05d}\".format(i))\n",
    "    t2 = time.time()\n",
    "    if i % 20 == 0:\n",
    "        print(i, err, (t2 - t1), rate)\n",
    "#         loss_file.write(\"{}, {}, {}, {}\\n\".format(i, err, (t2 - t1), rate))\n",
    "#         summary = sess.run(merged,\n",
    "#                            feed_dict={images:vx, masks:vm})\n",
    "#         #logwriter.add_summary(summary, i)  \n",
    "\n",
    "loss_file.close()"
   ]
  },
  {
   "cell_type": "code",
   "execution_count": null,
   "metadata": {},
   "outputs": [],
   "source": [
    "z = 10\n",
    "i = 1\n",
    "a  = vres[i, z, :,:,0]\n",
    "a = np.where(a > .1, a*0 + 1, a*0)\n",
    "a = (a - a.min())/(a.max() - a.min())\n",
    "a = 255*a\n",
    "print(a.sum())\n",
    "a = a.astype(np.int32)\n",
    "b  = vm[i, z,:,:,0]\n",
    "b = (b - b.min())/(b.max() - b.min())\n",
    "b = 255*b\n",
    "b = b.astype(np.float32)\n",
    "\n",
    "c = vx[i,z,:,:,0]\n",
    "c = (c - c.min())/(c.max() - c.min())\n",
    "c = 255*c\n",
    "c = c.astype(np.int32)\n",
    "print(c.max(), c.min())\n",
    "sh = np.stack([a, b, c], axis=2)\n"
   ]
  },
  {
   "cell_type": "code",
   "execution_count": null,
   "metadata": {},
   "outputs": [],
   "source": [
    "print(sh.shape, sh.dtype)\n",
    "plt.imshow(sh)"
   ]
  },
  {
   "cell_type": "code",
   "execution_count": null,
   "metadata": {},
   "outputs": [],
   "source": [
    "print(vx.shape, vm.shape, vres.shape)\n",
    "\n",
    "xo = np.stack((vx, vm, vres), 4)\n",
    "xo = np.squeeze(xo)\n",
    "#xo = np.rollaxis(xo, 3, 1)\n",
    "xo.shape"
   ]
  },
  {
   "cell_type": "code",
   "execution_count": null,
   "metadata": {},
   "outputs": [],
   "source": [
    "smm = np.memmap('/media/cjw/Data/c3d0.mm', mode='w+', dtype=np.float32\n",
    "                , shape=xo.shape)\n",
    "\n",
    "print(type(smm))\n",
    "smm[:] = xo[:]\n",
    "print(type(smm))\n",
    "smm.flush()\n",
    "del smm"
   ]
  },
  {
   "cell_type": "code",
   "execution_count": null,
   "metadata": {},
   "outputs": [],
   "source": [
    "\n",
    "import tifffile"
   ]
  },
  {
   "cell_type": "code",
   "execution_count": null,
   "metadata": {},
   "outputs": [],
   "source": [
    "tifffile.imwrite('/ssd1/cjw/Data/w3_2-48.tif', xo)"
   ]
  },
  {
   "cell_type": "code",
   "execution_count": null,
   "metadata": {},
   "outputs": [],
   "source": [
    "u.create_loss(masks)\n",
    "ss = sess.run(u.loss, feed_dict={images:yy, masks:bb})"
   ]
  },
  {
   "cell_type": "code",
   "execution_count": null,
   "metadata": {},
   "outputs": [],
   "source": [
    "ss.shape\n",
    "plt.imshow(ss[0,:,:,44,0])"
   ]
  },
  {
   "cell_type": "code",
   "execution_count": null,
   "metadata": {},
   "outputs": [],
   "source": [
    "rt = y[0,:,:,:,:]\n",
    "from scipy.ndimage import rotate\n",
    "\n",
    "res = rotate(rt, 45, (0, 1), order=2)"
   ]
  },
  {
   "cell_type": "code",
   "execution_count": null,
   "metadata": {},
   "outputs": [],
   "source": [
    "plt.imshow(res[:,:,44,0])"
   ]
  },
  {
   "cell_type": "code",
   "execution_count": null,
   "metadata": {},
   "outputs": [],
   "source": [
    "u.x.shape\n",
    "u.used = None"
   ]
  },
  {
   "cell_type": "code",
   "execution_count": null,
   "metadata": {},
   "outputs": [],
   "source": [
    "import pickle\n",
    "from scipy.ndimage import rotate\n",
    "\n",
    "\n",
    "def augment(b, da = 1):\n",
    "    mm = np.memmap('/ssd1/cjw/Data/nuclei.mm', dtype=np.float32,\n",
    "               mode='r+', shape=(720, 256, 256, 96, 2))\n",
    "    nr = b.shape[0]\n",
    "    d = dict()\n",
    "    counter = 0\n",
    "    for i in range(nr):\n",
    "        print(i)\n",
    "        s = b[i]  # this loses the first dimension\n",
    "        mm[counter] = s\n",
    "        counter += 1\n",
    "        print(counter)\n",
    "        angle = 0\n",
    "        while angle < 360:\n",
    "            angle += da\n",
    "            mm[counter] = rotate(s, angle, (0,1), reshape=False, order=1)\n",
    "            counter += 1\n",
    "            print(counter)\n",
    "            \n",
    "        mm.flush()\n",
    "    del mm\n",
    "        \n",
    "augment(u.x, 18)"
   ]
  },
  {
   "cell_type": "code",
   "execution_count": null,
   "metadata": {},
   "outputs": [],
   "source": [
    "mm = np.memmap('/media/cjw/Data/nuclei.mm', dtype=np.float32,\n",
    "               mode='r', shape=(720, 256, 256, 96, 2))"
   ]
  },
  {
   "cell_type": "code",
   "execution_count": null,
   "metadata": {},
   "outputs": [],
   "source": [
    "plt.imshow(mm[-19,:,:,34,0])"
   ]
  },
  {
   "cell_type": "code",
   "execution_count": null,
   "metadata": {},
   "outputs": [],
   "source": [
    "rf = .1\n",
    "for i in range(20000):\n",
    "    rf = rf*.9996\n",
    "    \n",
    "print(rf)"
   ]
  },
  {
   "cell_type": "code",
   "execution_count": null,
   "metadata": {},
   "outputs": [],
   "source": []
  }
 ],
 "metadata": {
  "kernelspec": {
   "display_name": "Python 3",
   "language": "python",
   "name": "python3"
  },
  "language_info": {
   "codemirror_mode": {
    "name": "ipython",
    "version": 3
   },
   "file_extension": ".py",
   "mimetype": "text/x-python",
   "name": "python",
   "nbconvert_exporter": "python",
   "pygments_lexer": "ipython3",
   "version": "3.6.4"
  }
 },
 "nbformat": 4,
 "nbformat_minor": 2
}
