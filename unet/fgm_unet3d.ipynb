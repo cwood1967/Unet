{
 "cells": [
  {
   "cell_type": "code",
   "execution_count": null,
   "metadata": {},
   "outputs": [],
   "source": [
    "import time\n",
    "import sys\n",
    "print(time.time())\n",
    "sys.path.append('/home/cjw/Code/Unet')\n",
    "#sys.path.append('/media/cjw/PythonLib/Unet')\n",
    "from skimage.io import imread\n",
    "from skimage.transform import resize\n",
    "from matplotlib import pyplot as plt\n",
    "import numpy as np\n",
    "\n",
    "import unet3d\n",
    "\n",
    "%matplotlib inline"
   ]
  },
  {
   "cell_type": "code",
   "execution_count": null,
   "metadata": {},
   "outputs": [],
   "source": [
    "import tensorflow as tf"
   ]
  },
  {
   "cell_type": "code",
   "execution_count": null,
   "metadata": {},
   "outputs": [],
   "source": [
    "tf.__version__"
   ]
  },
  {
   "cell_type": "code",
   "execution_count": null,
   "metadata": {},
   "outputs": [],
   "source": [
    "params = dict()\n",
    "\n",
    "params['width'] = 256\n",
    "params['height'] = 256\n",
    "params['depth'] = 8\n",
    "params['nchannels'] = 2\n",
    "params['channels'] = [0, 1]\n",
    "params['nepochs'] = [1]\n",
    "params['batchsize'] = [16]\n",
    "params['learning_rate'] = 0.001\n",
    "params['restore'] = False\n",
    "params['latent_size'] = 1\n",
    "params['enc_sizes'] = [[32,3, (2,2,2)], [64, 3, (1,2,2)],\n",
    "                       [128, 3, (1,2,2)], [256, 3, (1,2,2)]]\n",
    "\n",
    "params['dec_sizes'] = [[128,3, (1,2,2)], [64, 3, (1,2,2)],\n",
    "                       [32, 3, (1,2,2)], [1, 3, (2,2,2)]] #[params['nchannels'], 3, (2,2,2)]]\n",
    "params['droprate'] = 0.1\n",
    "params['stdev'] = 0.0001"
   ]
  },
  {
   "cell_type": "code",
   "execution_count": null,
   "metadata": {},
   "outputs": [],
   "source": [
    "\n",
    "tf.reset_default_graph()\n",
    "u = unet3d.unet3d(params)\n"
   ]
  },
  {
   "cell_type": "code",
   "execution_count": null,
   "metadata": {},
   "outputs": [],
   "source": [
    "#u.read_images('/ssd1/cjw/Data/Nuclei.tif')\n",
    "t1 = time.time()\n",
    "datax = np.load('/n/core/micro/asa/fgm/smc/20190919_Screen/cjw_training/augmented_b.npy')\n",
    "print(time.time() - t1)\n",
    "datax = datax.astype(np.float32)\n",
    "#u.read_mm('/n/core/micro/asa/fgm/smc/20190919_Screen/cjw_training/data.mm', shape=(960, 8, 3, 256, 256))\n",
    "\n",
    "datax.shape, datax.dtype\n",
    "#u.x = np.moveaxis(u.x, 2, -1)\n",
    "\n",
    "#u.x.shape, u.x.min(), u.x.max()"
   ]
  },
  {
   "cell_type": "code",
   "execution_count": null,
   "metadata": {},
   "outputs": [],
   "source": [
    "u.x = datax\n",
    "u.x = np.moveaxis(u.x, 2, -1)\n",
    "u.x = u.x[np.where(u.x[:,:,:,:,2].max(axis=(1,2,3)) > .05)[0]]\n",
    "u.x.shape"
   ]
  },
  {
   "cell_type": "code",
   "execution_count": null,
   "metadata": {},
   "outputs": [],
   "source": [
    "validx = np.load('/n/core/micro/asa/fgm/smc/20190919_Screen/cjw_training/validation_b.npy')\n",
    "validx = np.moveaxis(validx, 2, -1)\n",
    "validx.shape"
   ]
  },
  {
   "cell_type": "code",
   "execution_count": null,
   "metadata": {},
   "outputs": [],
   "source": [
    "# b = np.reshape(u.x, (720,48, 2, 256, 256, 2))\n",
    "# b0 = b[:,:,:,:,:,0]\n",
    "# b1 = b[:,:,:,:,:,1]\n",
    "# v0 = b0.mean(axis=2)\n",
    "# v1 = b1.max(axis=2)\n",
    "\n",
    "print(u.x[66, 5, :,:,2].min())\n",
    "print(u.x[66, 5, :,:,2].max())\n",
    "plt.imshow(u.x[66, 5, :,:,2])"
   ]
  },
  {
   "cell_type": "code",
   "execution_count": null,
   "metadata": {},
   "outputs": [],
   "source": [
    "v = u.x #np.stack([v0,v1], axis=-1)\n",
    "print(v.shape)"
   ]
  },
  {
   "cell_type": "code",
   "execution_count": null,
   "metadata": {
    "scrolled": false
   },
   "outputs": [],
   "source": [
    "if 1 == 0:\n",
    "    count = 1\n",
    "    plt.figure(figsize=(12,48))\n",
    "    for i in range(16):\n",
    "        for j in range(6):\n",
    "            plt.subplot(16,7,count)\n",
    "            plt.imshow(b[23,i, j, :,:, 0])\n",
    "            count += 1\n",
    "        plt.subplot(16,7, count)\n",
    "        plt.imshow(v[23,i, :,:,0])\n",
    "        count += 1\n",
    "#a = u.get_batch(4, augment=True)\n",
    "#ab = u.augment_batch(a)\n",
    "#ab.shape"
   ]
  },
  {
   "cell_type": "code",
   "execution_count": null,
   "metadata": {},
   "outputs": [],
   "source": [
    "u.x = v"
   ]
  },
  {
   "cell_type": "code",
   "execution_count": null,
   "metadata": {},
   "outputs": [],
   "source": [
    "# from scipy.ndimage import rotate\n",
    "# # angle = 90*np.random.randint(0,4)\n",
    "# # print(angle)\n",
    "# # s = a[2]\n",
    "# #ar = rotate(a, 270, (1,2), reshape=False, order=1)\n",
    "# plt.subplot(2,1,1)\n",
    "# plt.imshow(a[1,:,:,47,0])\n",
    "# plt.subplot(2,1,2)\n",
    "# plt.imshow(a[1,:,:,47,1])\n",
    "v0 = None\n",
    "v1 = None\n",
    "b = None"
   ]
  },
  {
   "cell_type": "code",
   "execution_count": null,
   "metadata": {},
   "outputs": [],
   "source": [
    "tf.reset_default_graph()\n",
    "images = tf.placeholder(tf.float32, (None, 8, 256, 256, params['nchannels']))\n",
    "masks = tf.placeholder(tf.float32, (None, 8, 256, 256, 1))\n",
    "learning_rate = tf.placeholder(tf.float32, ())\n",
    "u.learning_rate = learning_rate"
   ]
  },
  {
   "cell_type": "code",
   "execution_count": null,
   "metadata": {},
   "outputs": [],
   "source": [
    "enc = u.create_encoder(images, True)"
   ]
  },
  {
   "cell_type": "code",
   "execution_count": null,
   "metadata": {},
   "outputs": [],
   "source": [
    "d = u.create_decoder()\n",
    "u.create_loss(masks)\n",
    "u.create_opt()"
   ]
  },
  {
   "cell_type": "code",
   "execution_count": null,
   "metadata": {},
   "outputs": [],
   "source": []
  },
  {
   "cell_type": "code",
   "execution_count": null,
   "metadata": {},
   "outputs": [],
   "source": [
    "\n",
    "u.xtrain = u.x\n",
    "u.xvalid = validx\n",
    "#u.set_validation(20)\n",
    "u.xtrain.shape, u.xvalid.shape"
   ]
  },
  {
   "cell_type": "code",
   "execution_count": null,
   "metadata": {},
   "outputs": [],
   "source": [
    "#u.x[26, 5, :,:,2]\n",
    "\n",
    "tf.summary.scalar('loss', u.loss)\n",
    "si = tf.slice(u.decoder, [5, 4, 0, 0, 0], [10,5,256,256, 1])\n",
    "\n",
    "si = si[:,:,:,:,0]\n",
    "print(si)\n",
    "tf.summary.image('res', u.decoder, max_outputs=4)    \n",
    "merged = tf.summary.merge_all()\n",
    "\n",
    "sess = tf.Session()\n",
    "\n",
    "logdir = \"/scratch/cjw/fgm/logdir\"\n",
    "logwriter = tf.summary.FileWriter(logdir, sess.graph)"
   ]
  },
  {
   "cell_type": "code",
   "execution_count": null,
   "metadata": {},
   "outputs": [],
   "source": [
    "sess.run(tf.global_variables_initializer())"
   ]
  },
  {
   "cell_type": "code",
   "execution_count": null,
   "metadata": {},
   "outputs": [],
   "source": [
    "u.stdev = 0.02\n",
    "#u.learning_rate = 0.0001"
   ]
  },
  {
   "cell_type": "code",
   "execution_count": null,
   "metadata": {
    "scrolled": false
   },
   "outputs": [],
   "source": [
    "\n",
    "\n",
    "vx = u.xvalid[:,:,:,:,0:2]\n",
    "vm = u.xvalid[:,:,:,:,[2]]\n",
    "\n",
    "rate = 0.001\n",
    "#loss_file = open('progress.dat', 'w', buffering=1)\n",
    "batchsize = 16\n",
    "for epoch in range(100):\n",
    "    np.random.shuffle(u.xtrain)\n",
    "    niter = u.xtrain.shape[0]//batchsize\n",
    "    #print(niter)\n",
    "    bindex = 0\n",
    "    for i in range(niter):\n",
    "        t1 = time.time()\n",
    "        rate = np.maximum(rate*.9991, 0.0001)\n",
    "        batch = u.xtrain[bindex:bindex + batchsize,:,:,:,:]   #u.get_batch(16, augment=False)\n",
    "\n",
    "        bindex += batchsize\n",
    "        if bindex > u.xtrain.shape[0]:\n",
    "            bindex = 0\n",
    "        bx = batch[:,:,:,:,0:2]\n",
    "        #bx += np.random.randn()\n",
    "        bm = batch[:,:,:,:,[2]]\n",
    "        bm = np.where(bm > .25, 1.0, 0.0)\n",
    "        #print(bx.shape, bm.shape)\n",
    "        _, res, err = sess.run([u.opt, u.decoder_sigmoid, u.loss],\n",
    "                               feed_dict={images:bx, masks:bm, learning_rate:rate})\n",
    "    if (epoch + 1) % 10 == 0:\n",
    "        vres, verr = sess.run([u.decoder_sigmoid, u.loss],\n",
    "                               feed_dict={images:vx, masks:vm})\n",
    "\n",
    "        zm = vres[0,:,:,:,0].argmax(axis=(-1))\n",
    "        print(epoch, i, err, verr, vres[0,:,:,:,0].min(), vres[0,:,:,:,0].max())\n",
    "\n",
    "        nr = 4 #np.random.randint(0,16)\n",
    "        plt.figure(figsize=(12,2))\n",
    "        plt.subplot(1,6,1)\n",
    "        plt.imshow(res[nr,4,:,:,0])\n",
    "        plt.subplot(1,6,2)\n",
    "        plt.imshow(bm[nr,4,:,:,0])\n",
    "        plt.subplot(1,6,3)\n",
    "        plt.imshow(bx[nr, 4,:,:,0])\n",
    "        plt.subplot(1,6,4)\n",
    "        plt.imshow(vres[1, 5,:,:,0])\n",
    "        plt.subplot(1,6,5)\n",
    "        plt.imshow(vm[1, 5,:,:,0])\n",
    "        plt.subplot(1,6,6)\n",
    "        plt.imshow(vx[1, 5,:,:,0])\n",
    "        plt.show()\n",
    "            #plt.savefig(\"images/image{0:05d}\".format(i))\n",
    "        t2 = time.time()\n",
    "    print(\"end of epoch\", epoch, err)\n",
    "#     if i % 20 == 0:\n",
    "#         print(i, err, (t2 - t1), rate)\n",
    "# #         loss_file.write(\"{}, {}, {}, {}\\n\".format(i, err, (t2 - t1), rate))\n",
    "#         summary = sess.run(merged,\n",
    "#                            feed_dict={images:vx, masks:vm})\n",
    "#         logwriter.add_summary(summary, i)  \n",
    "\n",
    "#loss_file.close()"
   ]
  },
  {
   "cell_type": "code",
   "execution_count": null,
   "metadata": {},
   "outputs": [],
   "source": [
    "saver = tf.train.Saver()\n",
    "saver.save(sess, 'fgm/fgm_1.ckpt')"
   ]
  },
  {
   "cell_type": "code",
   "execution_count": null,
   "metadata": {},
   "outputs": [],
   "source": [
    "val_res, val_loss = sess.run([u.decoder_sigmoid, u.loss],\n",
    "                               feed_dict={images:vx, masks:vm})\n"
   ]
  },
  {
   "cell_type": "code",
   "execution_count": null,
   "metadata": {},
   "outputs": [],
   "source": [
    "val_res.shape#, valtif.shape"
   ]
  },
  {
   "cell_type": "code",
   "execution_count": null,
   "metadata": {},
   "outputs": [],
   "source": [
    "val_stack = np.concatenate([u.xvalid, val_res], axis=-1)\n",
    "val_stack.shape"
   ]
  },
  {
   "cell_type": "code",
   "execution_count": null,
   "metadata": {},
   "outputs": [],
   "source": [
    "import tifffile\n",
    "tifffile.imwrite('/n/core/micro/asa/fgm/smc/20190919_Screen/cjw_training/val_stackb.tif',\n",
    "                 val_stack.astype(np.float32))"
   ]
  },
  {
   "cell_type": "code",
   "execution_count": null,
   "metadata": {},
   "outputs": [],
   "source": [
    "import tifffile\n",
    "valtif = tifffile.imread('/n/core/micro/asa/fgm/smc/20190919_Screen/cjw_training/val_patches.tif')\n",
    "valtif = np.moveaxis(valtif, 2, -1)\n",
    "valtif.shape\n",
    "valtif.max()"
   ]
  },
  {
   "cell_type": "code",
   "execution_count": null,
   "metadata": {},
   "outputs": [],
   "source": [
    "val_patches_res = sess.run([u.decoder_sigmoid],\n",
    "                               feed_dict={images:valtif})\n",
    "\n",
    "val_cat = np.concatenate([valtif, val_patches_res[0]], axis=-1)\n",
    "tifffile.imwrite('/n/core/micro/asa/fgm/smc/20190919_Screen/cjw_training/val_patches_res.tif', val_cat)"
   ]
  },
  {
   "cell_type": "code",
   "execution_count": null,
   "metadata": {},
   "outputs": [],
   "source": [
    "print(vx.shape, vm.shape, vres.shape)\n",
    "\n",
    "xo = np.stack((vx, vm, vres), 4)\n",
    "xo = np.squeeze(xo)\n",
    "#xo = np.rollaxis(xo, 3, 1)\n",
    "xo.shape"
   ]
  },
  {
   "cell_type": "code",
   "execution_count": null,
   "metadata": {
    "scrolled": true
   },
   "outputs": [],
   "source": [
    "smm = np.memmap('/media/cjw/Data/c3d0.mm', mode='w+', dtype=np.float32\n",
    "                , shape=xo.shape)\n",
    "\n",
    "print(type(smm))\n",
    "smm[:] = xo[:]\n",
    "print(type(smm))\n",
    "smm.flush()\n",
    "del smm"
   ]
  },
  {
   "cell_type": "code",
   "execution_count": null,
   "metadata": {},
   "outputs": [],
   "source": [
    "\n",
    "import tifffile"
   ]
  },
  {
   "cell_type": "code",
   "execution_count": null,
   "metadata": {},
   "outputs": [],
   "source": [
    "tifffile.imwrite('/ssd1/cjw/Data/w3_2-48.tif', xo)"
   ]
  },
  {
   "cell_type": "code",
   "execution_count": null,
   "metadata": {},
   "outputs": [],
   "source": [
    "u.create_loss(masks)\n",
    "ss = sess.run(u.loss, feed_dict={images:yy, masks:bb})"
   ]
  },
  {
   "cell_type": "code",
   "execution_count": null,
   "metadata": {},
   "outputs": [],
   "source": [
    "ss.shape\n",
    "plt.imshow(ss[0,:,:,44,0])"
   ]
  },
  {
   "cell_type": "code",
   "execution_count": null,
   "metadata": {},
   "outputs": [],
   "source": [
    "rt = y[0,:,:,:,:]\n",
    "from scipy.ndimage import rotate\n",
    "\n",
    "res = rotate(rt, 45, (0, 1), order=2)"
   ]
  },
  {
   "cell_type": "code",
   "execution_count": null,
   "metadata": {},
   "outputs": [],
   "source": [
    "plt.imshow(res[:,:,44,0])"
   ]
  },
  {
   "cell_type": "code",
   "execution_count": null,
   "metadata": {},
   "outputs": [],
   "source": [
    "u.x.shape\n",
    "u.used = None"
   ]
  },
  {
   "cell_type": "code",
   "execution_count": null,
   "metadata": {},
   "outputs": [],
   "source": [
    "import pickle\n",
    "from scipy.ndimage import rotate\n",
    "\n",
    "\n",
    "def augment(b, da = 1):\n",
    "    mm = np.memmap('/ssd1/cjw/Data/nuclei.mm', dtype=np.float32,\n",
    "               mode='r+', shape=(720, 256, 256, 96, 2))\n",
    "    nr = b.shape[0]\n",
    "    d = dict()\n",
    "    counter = 0\n",
    "    for i in range(nr):\n",
    "        print(i)\n",
    "        s = b[i]  # this loses the first dimension\n",
    "        mm[counter] = s\n",
    "        counter += 1\n",
    "        print(counter)\n",
    "        angle = 0\n",
    "        while angle < 360:\n",
    "            angle += da\n",
    "            mm[counter] = rotate(s, angle, (0,1), reshape=False, order=1)\n",
    "            counter += 1\n",
    "            print(counter)\n",
    "            \n",
    "        mm.flush()\n",
    "    del mm\n",
    "        \n",
    "augment(u.x, 18)"
   ]
  },
  {
   "cell_type": "code",
   "execution_count": null,
   "metadata": {},
   "outputs": [],
   "source": [
    "mm = np.memmap('/media/cjw/Data/nuclei.mm', dtype=np.float32,\n",
    "               mode='r', shape=(720, 256, 256, 96, 2))"
   ]
  },
  {
   "cell_type": "code",
   "execution_count": null,
   "metadata": {},
   "outputs": [],
   "source": [
    "plt.imshow(mm[-19,:,:,34,0])"
   ]
  },
  {
   "cell_type": "code",
   "execution_count": null,
   "metadata": {},
   "outputs": [],
   "source": [
    "rf = .1\n",
    "for i in range(20000):\n",
    "    rf = rf*.9996\n",
    "    \n",
    "print(rf)"
   ]
  },
  {
   "cell_type": "code",
   "execution_count": null,
   "metadata": {},
   "outputs": [],
   "source": []
  }
 ],
 "metadata": {
  "kernelspec": {
   "display_name": "Python 3",
   "language": "python",
   "name": "python3"
  },
  "language_info": {
   "codemirror_mode": {
    "name": "ipython",
    "version": 3
   },
   "file_extension": ".py",
   "mimetype": "text/x-python",
   "name": "python",
   "nbconvert_exporter": "python",
   "pygments_lexer": "ipython3",
   "version": "3.6.8"
  }
 },
 "nbformat": 4,
 "nbformat_minor": 2
}
