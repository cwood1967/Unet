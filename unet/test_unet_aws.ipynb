{
 "cells": [
  {
   "cell_type": "code",
   "execution_count": null,
   "metadata": {},
   "outputs": [],
   "source": [
    "import time\n",
    "import sys\n",
    "\n",
    "sys.path.append('/home/cjw/Code/Unet')\n",
    "sys.path.append('/media/cjw/PythonLib/Unet')\n",
    "from skimage.io import imread\n",
    "from matplotlib import pyplot as plt\n",
    "import numpy as np\n",
    "\n",
    "import unet\n",
    "%matplotlib inline"
   ]
  },
  {
   "cell_type": "code",
   "execution_count": null,
   "metadata": {},
   "outputs": [],
   "source": [
    "import tensorflow as tf"
   ]
  },
  {
   "cell_type": "code",
   "execution_count": null,
   "metadata": {},
   "outputs": [],
   "source": [
    "params = dict()\n",
    "\n",
    "params['width'] = 256\n",
    "params['height'] = 256\n",
    "params['depth'] = 96\n",
    "params['nchannels'] = 1\n",
    "params['channels'] = [1]\n",
    "params['nepochs'] = [1]\n",
    "params['batchsize'] = [8]\n",
    "params['learning_rate'] = 0.001\n",
    "params['restore'] = False\n",
    "params['latent_size'] = 1\n",
    "params['enc_sizes'] = [[32,3], [64, 3], [128, 3], [192, 3]]\n",
    "params['dec_sizes'] = [[128,3], [64, 3], [32, 3], [params['nchannels'], 3]]\n",
    "params['droprate'] = 0.25\n",
    "params['stdev'] = 0.08"
   ]
  },
  {
   "cell_type": "code",
   "execution_count": null,
   "metadata": {},
   "outputs": [],
   "source": [
    "\n",
    "tf.reset_default_graph()\n",
    "u = unet.unet3d(params)\n"
   ]
  },
  {
   "cell_type": "code",
   "execution_count": null,
   "metadata": {},
   "outputs": [],
   "source": [
    "#u.read_images('/ssd1/cjw/Data/Nuclei.tif')\n",
    "u.read_mm('/ssd1/cjw/Data/nuclei.mm', shape=(720, 256, 256, 96, 2))\n",
    "#u.x = u.x[:,:,:,:,:]\n",
    "u.x.shape"
   ]
  },
  {
   "cell_type": "code",
   "execution_count": null,
   "metadata": {},
   "outputs": [],
   "source": [
    "#a = u.get_batch(4, augment=True)\n",
    "#ab = u.augment_batch(a)\n",
    "#ab.shape"
   ]
  },
  {
   "cell_type": "code",
   "execution_count": null,
   "metadata": {},
   "outputs": [],
   "source": [
    "# from scipy.ndimage import rotate\n",
    "# # angle = 90*np.random.randint(0,4)\n",
    "# # print(angle)\n",
    "# # s = a[2]\n",
    "# #ar = rotate(a, 270, (1,2), reshape=False, order=1)\n",
    "# plt.subplot(2,1,1)\n",
    "# plt.imshow(a[1,:,:,47,0])\n",
    "# plt.subplot(2,1,2)\n",
    "# plt.imshow(a[1,:,:,47,1])"
   ]
  },
  {
   "cell_type": "code",
   "execution_count": null,
   "metadata": {},
   "outputs": [],
   "source": [
    "\n",
    "images = tf.placeholder(tf.float32, (None, 256, 256, 96, params['nchannels']))\n",
    "masks = tf.placeholder(tf.float32, (None, 256, 256, 96, params['nchannels']))\n",
    "learning_rate = tf.placeholder(tf.float32, ())\n",
    "u.learning_rate = learning_rate"
   ]
  },
  {
   "cell_type": "code",
   "execution_count": null,
   "metadata": {},
   "outputs": [],
   "source": [
    "enc = u.create_encoder(images, True)"
   ]
  },
  {
   "cell_type": "code",
   "execution_count": null,
   "metadata": {},
   "outputs": [],
   "source": [
    "d = u.create_decoder()\n",
    "u.create_loss(masks)\n",
    "u.create_opt()"
   ]
  },
  {
   "cell_type": "code",
   "execution_count": null,
   "metadata": {},
   "outputs": [],
   "source": []
  },
  {
   "cell_type": "code",
   "execution_count": null,
   "metadata": {},
   "outputs": [],
   "source": [
    "u.set_validation(20)"
   ]
  },
  {
   "cell_type": "code",
   "execution_count": null,
   "metadata": {},
   "outputs": [],
   "source": [
    "sess = tf.Session()"
   ]
  },
  {
   "cell_type": "code",
   "execution_count": null,
   "metadata": {},
   "outputs": [],
   "source": [
    "sess.run(tf.global_variables_initializer())"
   ]
  },
  {
   "cell_type": "code",
   "execution_count": null,
   "metadata": {},
   "outputs": [],
   "source": [
    "u.stdev = 0.04\n",
    "#u.learning_rate = 0.0001"
   ]
  },
  {
   "cell_type": "code",
   "execution_count": null,
   "metadata": {},
   "outputs": [],
   "source": [
    "vx = np.expand_dims(u.xvalid[:,:,:,:,0], -1)\n",
    "vm = np.expand_dims(u.xvalid[:,:,:,:,1], -1) \n",
    "\n",
    "rate = 0.001\n",
    "for i in range(20000):\n",
    "    t1 = time.time()\n",
    "    rate = np.maximum(rate*.9992, 0.000001)\n",
    "    batch = u.get_batch(8, augment=False)\n",
    "    bx = np.expand_dims(batch[:,:,:,:,0], -1)\n",
    "    bm = np.expand_dims(batch[:,:,:,:,1], -1)\n",
    "    _, res, err = sess.run([u.opt, u.decoder_sigmoid, u.loss],\n",
    "                           feed_dict={images:bx, masks:bm, learning_rate:rate})\n",
    "    if i % 40 == 0:\n",
    "        vres, verr = sess.run([u.decoder_sigmoid, u.loss],\n",
    "                               feed_dict={images:vx, masks:vm})\n",
    "\n",
    "        zm = vres[0,:,:,:,0].argmax(axis=(-1))\n",
    "        print(err, verr, vres[0,:,:,:,0].min(), vres[0,:,:,:,0].max())\n",
    "        #print(zm)\n",
    "    \n",
    "        plt.figure(figsize=(12,2))\n",
    "        plt.subplot(1,6,1)\n",
    "        plt.imshow(res[0,:,:,32,0])\n",
    "        plt.subplot(1,6,2)\n",
    "        plt.imshow(bm[0,:,:,32,0])\n",
    "        plt.subplot(1,6,3)\n",
    "        plt.imshow(bx[0,:,:,32,0])\n",
    "        plt.subplot(1,6,4)\n",
    "        plt.imshow(vres[0,:,:,32,0])\n",
    "        plt.subplot(1,6,5)\n",
    "        plt.imshow(vm[0,:,:,32,0])\n",
    "        plt.subplot(1,6,6)\n",
    "        plt.imshow(vx[0,:,:,32,0])\n",
    "        plt.show()\n",
    "    t2 = time.time()\n",
    "    if i % 4 == 0:\n",
    "        print(i, err, (t2 - t1), rate)\n",
    "        #print(zm)"
   ]
  },
  {
   "cell_type": "code",
   "execution_count": null,
   "metadata": {},
   "outputs": [],
   "source": [
    "z = 56\n",
    "i = 5\n",
    "a  = vres[i, :,:, z,0]\n",
    "a = np.where(a > .1, a*0 + 1, a*0)\n",
    "a = (a - a.min())/(a.max() - a.min())\n",
    "a = 255*a\n",
    "print(a.sum())\n",
    "a = a.astype(np.int32)\n",
    "b  = vm[i, :,:, z,0]\n",
    "b = (b - b.min())/(b.max() - b.min())\n",
    "b = 255*b\n",
    "b = b.astype(np.int32)\n",
    "\n",
    "c = vx[i,:,:,z,0]\n",
    "c = (c - c.min())/(c.max() - c.min())\n",
    "c = 255*c\n",
    "c = c.astype(np.int32)\n",
    "print(c.max(), c.min())\n",
    "sh = np.stack([a, b, c], axis=2)\n",
    "sh.shape"
   ]
  },
  {
   "cell_type": "code",
   "execution_count": null,
   "metadata": {},
   "outputs": [],
   "source": [
    "plt.imshow(sh)"
   ]
  },
  {
   "cell_type": "code",
   "execution_count": null,
   "metadata": {},
   "outputs": [],
   "source": [
    "print(vx.shape, vm.shape, vres.shape)\n",
    "\n",
    "xo = np.stack((vx, vm, vres), 4)\n",
    "xo = np.squeeze(xo)\n",
    "xo = np.rollaxis(xo, 3, 1)\n",
    "xo.shape"
   ]
  },
  {
   "cell_type": "code",
   "execution_count": null,
   "metadata": {},
   "outputs": [],
   "source": [
    "smm = np.memmap('/media/cjw/Data/c3d0.mm', mode='w+', dtype=np.float32\n",
    "                , shape=xo.shape)\n",
    "\n",
    "print(type(smm))\n",
    "smm[:] = xo[:]\n",
    "print(type(smm))\n",
    "smm.flush()\n",
    "del smm"
   ]
  },
  {
   "cell_type": "code",
   "execution_count": null,
   "metadata": {},
   "outputs": [],
   "source": [
    "import tifffile"
   ]
  },
  {
   "cell_type": "code",
   "execution_count": null,
   "metadata": {},
   "outputs": [],
   "source": [
    "tifffile.imwrite('/ssd1/cjw/Data/w1.tif', xo)"
   ]
  },
  {
   "cell_type": "code",
   "execution_count": null,
   "metadata": {},
   "outputs": [],
   "source": [
    "u.create_loss(masks)\n",
    "ss = sess.run(u.loss, feed_dict={images:yy, masks:bb})"
   ]
  },
  {
   "cell_type": "code",
   "execution_count": null,
   "metadata": {},
   "outputs": [],
   "source": [
    "ss.shape\n",
    "plt.imshow(ss[0,:,:,44,0])"
   ]
  },
  {
   "cell_type": "code",
   "execution_count": null,
   "metadata": {},
   "outputs": [],
   "source": [
    "rt = y[0,:,:,:,:]\n",
    "from scipy.ndimage import rotate\n",
    "\n",
    "res = rotate(rt, 45, (0, 1), order=2)"
   ]
  },
  {
   "cell_type": "code",
   "execution_count": null,
   "metadata": {},
   "outputs": [],
   "source": [
    "plt.imshow(res[:,:,44,0])"
   ]
  },
  {
   "cell_type": "code",
   "execution_count": null,
   "metadata": {},
   "outputs": [],
   "source": [
    "u.x.shape\n",
    "u.used = None"
   ]
  },
  {
   "cell_type": "code",
   "execution_count": null,
   "metadata": {},
   "outputs": [],
   "source": [
    "import pickle\n",
    "from scipy.ndimage import rotate\n",
    "\n",
    "\n",
    "def augment(b, da = 1):\n",
    "    mm = np.memmap('/ssd1/cjw/Data/nuclei.mm', dtype=np.float32,\n",
    "               mode='r+', shape=(720, 256, 256, 96, 2))\n",
    "    nr = b.shape[0]\n",
    "    d = dict()\n",
    "    counter = 0\n",
    "    for i in range(nr):\n",
    "        print(i)\n",
    "        s = b[i]  # this loses the first dimension\n",
    "        mm[counter] = s\n",
    "        counter += 1\n",
    "        print(counter)\n",
    "        angle = 0\n",
    "        while angle < 360:\n",
    "            angle += da\n",
    "            mm[counter] = rotate(s, angle, (0,1), reshape=False, order=1)\n",
    "            counter += 1\n",
    "            print(counter)\n",
    "            \n",
    "        mm.flush()\n",
    "    del mm\n",
    "        \n",
    "augment(u.x, 18)"
   ]
  },
  {
   "cell_type": "code",
   "execution_count": null,
   "metadata": {},
   "outputs": [],
   "source": [
    "mm = np.memmap('/media/cjw/Data/nuclei.mm', dtype=np.float32,\n",
    "               mode='r', shape=(720, 256, 256, 96, 2))"
   ]
  },
  {
   "cell_type": "code",
   "execution_count": null,
   "metadata": {},
   "outputs": [],
   "source": [
    "plt.imshow(mm[-19,:,:,34,0])"
   ]
  },
  {
   "cell_type": "code",
   "execution_count": null,
   "metadata": {},
   "outputs": [],
   "source": [
    "rf = .1\n",
    "for i in range(20000):\n",
    "    rf = rf*.9996\n",
    "    \n",
    "print(rf)"
   ]
  },
  {
   "cell_type": "code",
   "execution_count": null,
   "metadata": {},
   "outputs": [],
   "source": []
  }
 ],
 "metadata": {
  "kernelspec": {
   "display_name": "Python 3",
   "language": "python",
   "name": "python3"
  },
  "language_info": {
   "codemirror_mode": {
    "name": "ipython",
    "version": 3
   },
   "file_extension": ".py",
   "mimetype": "text/x-python",
   "name": "python",
   "nbconvert_exporter": "python",
   "pygments_lexer": "ipython3",
   "version": "3.6.5"
  }
 },
 "nbformat": 4,
 "nbformat_minor": 2
}
