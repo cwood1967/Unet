{
 "cells": [
  {
   "cell_type": "code",
   "execution_count": null,
   "metadata": {},
   "outputs": [],
   "source": [
    "import time\n",
    "import sys\n",
    "\n",
    "sys.path.append('/home/cjw/Code/Unet')\n",
    "\n",
    "from skimage.io import imread\n",
    "from matplotlib import pyplot as plt\n",
    "import numpy as np\n",
    "\n",
    "import unet\n",
    "%matplotlib inline"
   ]
  },
  {
   "cell_type": "code",
   "execution_count": null,
   "metadata": {},
   "outputs": [],
   "source": [
    "import tensorflow as tf"
   ]
  },
  {
   "cell_type": "code",
   "execution_count": null,
   "metadata": {},
   "outputs": [],
   "source": [
    "params = dict()\n",
    "\n",
    "params['width'] = 256\n",
    "params['height'] = 256\n",
    "params['depth'] = 96\n",
    "params['nchannels'] = 1\n",
    "params['channels'] = [1]\n",
    "params['nepochs'] = [1]\n",
    "params['batchsize'] = [2]\n",
    "params['learning_rate'] = 0.001\n",
    "params['restore'] = False\n",
    "params['latent_size'] = 1\n",
    "params['enc_sizes'] = [[16,3], [32, 3], [64, 3], [128, 3]]\n",
    "params['dec_sizes'] = [[64,3], [32, 3], [16, 3], [params['nchannels'], 3]]\n",
    "params['droprate'] = 0\n",
    "params['stdev'] = 0.08"
   ]
  },
  {
   "cell_type": "code",
   "execution_count": null,
   "metadata": {},
   "outputs": [],
   "source": [
    "\n",
    "tf.reset_default_graph()\n",
    "u = unet.unet3d(params)\n"
   ]
  },
  {
   "cell_type": "code",
   "execution_count": null,
   "metadata": {},
   "outputs": [],
   "source": [
    "u.read_images('/media/cjw/Data/Nuclei.tif')\n",
    "u.x = u.x[:,:,:,:,:]\n",
    "u.x.shape"
   ]
  },
  {
   "cell_type": "code",
   "execution_count": null,
   "metadata": {},
   "outputs": [],
   "source": []
  },
  {
   "cell_type": "code",
   "execution_count": null,
   "metadata": {},
   "outputs": [],
   "source": [
    "\n",
    "images = tf.placeholder(tf.float32, (None, 256, 256, 96, params['nchannels']))\n",
    "masks = tf.placeholder(tf.float32, (None, 256, 256, 96, params['nchannels']))"
   ]
  },
  {
   "cell_type": "code",
   "execution_count": null,
   "metadata": {},
   "outputs": [],
   "source": [
    "enc = u.create_encoder(images, True)"
   ]
  },
  {
   "cell_type": "code",
   "execution_count": null,
   "metadata": {},
   "outputs": [],
   "source": [
    "d = u.create_decoder()\n",
    "u.create_loss(masks)\n",
    "u.create_opt()"
   ]
  },
  {
   "cell_type": "code",
   "execution_count": null,
   "metadata": {},
   "outputs": [],
   "source": []
  },
  {
   "cell_type": "code",
   "execution_count": null,
   "metadata": {},
   "outputs": [],
   "source": []
  },
  {
   "cell_type": "code",
   "execution_count": null,
   "metadata": {},
   "outputs": [],
   "source": [
    "sess = tf.Session()"
   ]
  },
  {
   "cell_type": "code",
   "execution_count": null,
   "metadata": {},
   "outputs": [],
   "source": [
    "sess.run(tf.global_variables_initializer())"
   ]
  },
  {
   "cell_type": "code",
   "execution_count": null,
   "metadata": {},
   "outputs": [],
   "source": [
    "for i in range(1000):\n",
    "    nr = np.random.randint(0,36, 8)\n",
    "    bx = np.expand_dims(u.x[nr,:,:,:,0], -1)\n",
    "    bm = np.expand_dims(u.x[nr,:,:,:,1], -1)\n",
    "    _, res, err = sess.run([u.opt, u.decoder_sigmoid, u.loss], feed_dict={images:bx, masks:bm})\n",
    "    if i % 20 == 0:\n",
    "        print(err)\n",
    "        plt.figure(figsize=(8,2))\n",
    "        plt.subplot(1,3,1)\n",
    "        plt.imshow(res[0,:,:,32,0])\n",
    "        plt.subplot(1,3,2)\n",
    "        plt.imshow(u.x[nr[0],:,:,32,1])\n",
    "        plt.subplot(1,3,3)\n",
    "        plt.imshow(u.x[nr[0],:,:,32,0])\n",
    "        plt.show()"
   ]
  },
  {
   "cell_type": "code",
   "execution_count": null,
   "metadata": {},
   "outputs": [],
   "source": [
    "res.shape, u.x[nr,:,:,32,1].shape"
   ]
  },
  {
   "cell_type": "code",
   "execution_count": null,
   "metadata": {},
   "outputs": [],
   "source": []
  },
  {
   "cell_type": "code",
   "execution_count": null,
   "metadata": {},
   "outputs": [],
   "source": []
  },
  {
   "cell_type": "code",
   "execution_count": null,
   "metadata": {},
   "outputs": [],
   "source": []
  },
  {
   "cell_type": "code",
   "execution_count": null,
   "metadata": {},
   "outputs": [],
   "source": []
  },
  {
   "cell_type": "code",
   "execution_count": null,
   "metadata": {},
   "outputs": [],
   "source": []
  },
  {
   "cell_type": "code",
   "execution_count": null,
   "metadata": {},
   "outputs": [],
   "source": [
    "u.create_loss(masks)\n",
    "ss = sess.run(u.loss, feed_dict={images:yy, masks:bb})"
   ]
  },
  {
   "cell_type": "code",
   "execution_count": null,
   "metadata": {},
   "outputs": [],
   "source": [
    "ss.shape\n",
    "plt.imshow(ss[0,:,:,44,0])"
   ]
  },
  {
   "cell_type": "code",
   "execution_count": null,
   "metadata": {},
   "outputs": [],
   "source": [
    "rt = y[0,:,:,:,:]\n",
    "from scipy.ndimage import rotate\n",
    "\n",
    "res = rotate(rt, 45, (0, 1), order=2)"
   ]
  },
  {
   "cell_type": "code",
   "execution_count": null,
   "metadata": {},
   "outputs": [],
   "source": [
    "plt.imshow(res[:,:,44,0])"
   ]
  },
  {
   "cell_type": "code",
   "execution_count": null,
   "metadata": {},
   "outputs": [],
   "source": []
  }
 ],
 "metadata": {
  "kernelspec": {
   "display_name": "Python 3",
   "language": "python",
   "name": "python3"
  },
  "language_info": {
   "codemirror_mode": {
    "name": "ipython",
    "version": 3
   },
   "file_extension": ".py",
   "mimetype": "text/x-python",
   "name": "python",
   "nbconvert_exporter": "python",
   "pygments_lexer": "ipython3",
   "version": "3.6.4"
  }
 },
 "nbformat": 4,
 "nbformat_minor": 2
}
