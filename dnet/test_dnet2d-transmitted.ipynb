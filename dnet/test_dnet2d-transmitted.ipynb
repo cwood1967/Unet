{
 "cells": [
  {
   "cell_type": "code",
   "execution_count": null,
   "metadata": {},
   "outputs": [],
   "source": [
    "import time\n",
    "import sys\n",
    "\n",
    "sys.path.append('/home/cjw/Code/Unet')\n",
    "#sys.path.append('/media/cjw/PythonLib/Unet')\n",
    "from skimage.io import imread\n",
    "from skimage.transform import resize\n",
    "from matplotlib import pyplot as plt\n",
    "import numpy as np\n",
    "from scipy.ndimage.morphology import distance_transform_edt\n",
    "from dnet import dnet2d\n",
    "\n",
    "%matplotlib inline"
   ]
  },
  {
   "cell_type": "code",
   "execution_count": null,
   "metadata": {},
   "outputs": [],
   "source": [
    "import tensorflow as tf\n",
    "tf.__version__"
   ]
  },
  {
   "cell_type": "code",
   "execution_count": null,
   "metadata": {},
   "outputs": [],
   "source": [
    "params = dict()\n",
    "\n",
    "params['width'] = 256\n",
    "params['height'] = 256\n",
    "params['nchannels'] = 3\n",
    "params['channels'] = [0,1,2]\n",
    "params['nepochs'] = [1]\n",
    "params['batchsize'] = [512]\n",
    "params['learning_rate'] = 0.001\n",
    "params['restore'] = False\n",
    "params['latent_size'] = 1\n",
    "params['net_sizes'] = [[16, 1, 1], [16, 3, 1], [16, 3, 2],\n",
    "                       [16, 3, 4], [16, 3, 6], [16, 3, 8], [16, 3, 12], [3, 3, 1]]\n",
    "params['droprate'] = 0.1\n",
    "params['stdev'] = 0.04"
   ]
  },
  {
   "cell_type": "code",
   "execution_count": null,
   "metadata": {},
   "outputs": [],
   "source": [
    "## read in the data\n",
    "data_tif = imread('/ssd1/cjw/Data/sez/NDExp.tif')\n",
    "labels_tif = imread('/ssd1/cjw/Data/sez/NDExp_labels.tif')\n",
    "print(labels_tif.shape)"
   ]
  },
  {
   "cell_type": "code",
   "execution_count": null,
   "metadata": {},
   "outputs": [],
   "source": [
    "#labels_tif = labels_tif.max(axis=(-1), keepdims=True)\n",
    "print(labels_tif.shape)\n",
    "plt.imshow(labels_tif[0,:,:,0])\n",
    "labels_tif.min(), labels_tif.max()\n",
    "\n",
    "data_tif = data_tif[:,:,:,-1]\n",
    "data_tif = np.expand_dims(data_tif, -1)"
   ]
  },
  {
   "cell_type": "code",
   "execution_count": null,
   "metadata": {},
   "outputs": [],
   "source": [
    "#normalize images 0-1\n",
    "#try normalizing wit zero mean and equal sdev\n",
    "\n",
    "dmin = data_tif.min(axis=(1,2),keepdims=True)\n",
    "dmax = data_tif.max(axis=(1,2),keepdims=True)\n",
    "dmean = data_tif.mean(axis=(1,2),keepdims=True)\n",
    "dstd = data_tif.std(axis=(1,2),keepdims=True)\n",
    "\n",
    "#data = (data_tif - dmin)/(dmax - dmin)\n",
    "data = (data_tif - dmean)/dstd\n",
    "labels = (labels_tif - labels_tif.min())/(labels_tif.max() - labels_tif.min())\n",
    "\n",
    "#put cells with both channels into channel 0\n",
    "labels = labels.max(axis=(-1), keepdims=True)\n",
    "\n",
    "labshape = labels.shape\n",
    "temp = np.zeros(labels.shape[0:3] + (2,), dtype=np.float32)\n",
    "temp[:,:, :, 0:-1] = labels\n",
    "tsum = labels.max() - labels.max(axis=(-1))\n",
    "temp[:,:,:, -1] = tsum\n",
    "labels = temp\n",
    "\n",
    "data_tif.shape, data.shape, labels.shape, labels_tif.shape"
   ]
  },
  {
   "cell_type": "code",
   "execution_count": null,
   "metadata": {},
   "outputs": [],
   "source": [
    "def get_outline(a, ch):\n",
    "    \n",
    "    b = a[:,:,ch] \n",
    "    b[np.where(b > 0)] = 1\n",
    "    \n",
    "    e0 = distance_transform_edt(b)\n",
    "    ew = np.where(np.logical_and(e0 >= 1, e0 <=2))\n",
    "    ew0 = np.zeros(b.shape, dtype=a.dtype)\n",
    "    ew0[ew] = 1\n",
    "    return ew0, ew\n",
    "\n",
    "z = labels.copy()\n",
    "\n",
    "ch4= np.zeros((labels.shape[0:-1] + (labshape[-1],)), dtype=np.float32)\n",
    "\n",
    "for i in range(labels.shape[0]):\n",
    "    ch = 0\n",
    "    q0, qw0 = get_outline(labels[i], ch)\n",
    "    z[i,:,:,0][qw0] = 0\n",
    "    \n",
    "    ch4[i,:,:,0] = q0\n",
    "#     ch4[i,:,:,2] = q2\n",
    "#     ch4[i,:,:,3] = q3\n",
    "\n",
    "plt.figure(figsize=(8,8))\n",
    "z = np.concatenate([z, ch4], axis=-1)\n",
    "labels = z\n",
    "\n",
    "plt.imshow(labels[-1,:,:,-2]) # + .5*labels[-1,:,:,4] + .25*labels[-1,:,:,-1])\n",
    "labels.shape, labshape"
   ]
  },
  {
   "cell_type": "code",
   "execution_count": null,
   "metadata": {},
   "outputs": [],
   "source": []
  },
  {
   "cell_type": "code",
   "execution_count": null,
   "metadata": {},
   "outputs": [],
   "source": [
    "\n",
    "tf.reset_default_graph()\n",
    "u = dnet2d.dnet2d(params)\n",
    "u.x = data\n",
    "u.y = labels"
   ]
  },
  {
   "cell_type": "code",
   "execution_count": null,
   "metadata": {},
   "outputs": [],
   "source": [
    "test_images = imread('/ssd1/cjw/Data/sez/test.tif')\n",
    "tmean = test_images.mean(axis=(1,2),keepdims=True)\n",
    "tstd = test_images.std(axis=(1,2),keepdims=True)\n",
    "\n",
    "#data = (data_tif - dmin)/(dmax - dmin)\n",
    "test_images = (test_images - tmean)/tstd\n",
    "u.xtest = np.expand_dims(test_images[:,:,:,-1], -1)\n",
    "print(test_images.std(axis=(1,2)))\n",
    "u.xtest.shape, u.xtest.mean(axis=(1,2)).shape,u.xtest.mean(axis=(1,2)), u.xtest.min(axis=(1,2)), u.xtest.max(axis=(1,2))"
   ]
  },
  {
   "cell_type": "code",
   "execution_count": null,
   "metadata": {},
   "outputs": [],
   "source": [
    "w = 256"
   ]
  },
  {
   "cell_type": "code",
   "execution_count": null,
   "metadata": {},
   "outputs": [],
   "source": [
    "tf.reset_default_graph()\n",
    "images = tf.placeholder(tf.float32, (None, w, w, 1))\n",
    "masks = tf.placeholder(tf.float32, (None, w, w, labels.shape[-1]))\n",
    "learning_rate = tf.placeholder(tf.float32, ())\n",
    "u.learning_rate = learning_rate"
   ]
  },
  {
   "cell_type": "code",
   "execution_count": null,
   "metadata": {},
   "outputs": [],
   "source": [
    "enc = u.create_dnet(images, True)"
   ]
  },
  {
   "cell_type": "code",
   "execution_count": null,
   "metadata": {},
   "outputs": [],
   "source": [
    "u.net"
   ]
  },
  {
   "cell_type": "code",
   "execution_count": null,
   "metadata": {},
   "outputs": [],
   "source": [
    "#d = u.create_decoder()\n",
    "u.create_loss(masks)\n",
    "u.create_opt()"
   ]
  },
  {
   "cell_type": "code",
   "execution_count": null,
   "metadata": {},
   "outputs": [],
   "source": []
  },
  {
   "cell_type": "code",
   "execution_count": null,
   "metadata": {},
   "outputs": [],
   "source": [
    "#u.set_validation(20)\n",
    "u.xtrain = u.x"
   ]
  },
  {
   "cell_type": "code",
   "execution_count": null,
   "metadata": {},
   "outputs": [],
   "source": [
    "sess = tf.Session()"
   ]
  },
  {
   "cell_type": "code",
   "execution_count": null,
   "metadata": {},
   "outputs": [],
   "source": [
    "# tf.summary.scalar('loss', u.loss)\n",
    "# si = tf.slice(u.decoder, [5, 0, 0, 0, 0], [10,1,256,256, 1])\n",
    "\n",
    "# si = si[:,:,:,:,0]\n",
    "# print(si)\n",
    "# tf.summary.image('res', si, max_outputs=1)    \n",
    "# merged = tf.summary.merge_all()\n",
    "\n",
    "\n",
    "\n",
    "# logdir = \"logdir\"\n",
    "# logwriter = tf.summary.FileWriter(logdir, sess.graph)"
   ]
  },
  {
   "cell_type": "code",
   "execution_count": null,
   "metadata": {},
   "outputs": [],
   "source": [
    "sess.run(tf.global_variables_initializer())"
   ]
  },
  {
   "cell_type": "code",
   "execution_count": null,
   "metadata": {},
   "outputs": [],
   "source": [
    "tb, tm = u.get_batch(2, erode=0)\n",
    "tb = (tb - tb.min())/(tb.max() - tb.min())\n",
    "print(tb.shape, tm.shape)\n",
    "plt.subplot(1,2,1)\n",
    "plt.imshow(tb[1,:,:,0])\n",
    "plt.subplot(1,2,2)\n",
    "plt.imshow(tm[-1,:,:,-1])"
   ]
  },
  {
   "cell_type": "code",
   "execution_count": null,
   "metadata": {},
   "outputs": [],
   "source": [
    "bz = tm[1]\n",
    "print(bz.shape)\n",
    "bz[:,:,-2] = 0\n",
    "\n",
    "bzm = bz.max(axis=-1)\n",
    "bz[:,:,-1] = 1 - bzm\n",
    "plt.imshow(bz[:,:,-3:])\n",
    "bzm.shape"
   ]
  },
  {
   "cell_type": "code",
   "execution_count": null,
   "metadata": {},
   "outputs": [],
   "source": [
    "u.stdev = 0.1\n",
    "#u.learning_rate = 0.0001"
   ]
  },
  {
   "cell_type": "code",
   "execution_count": null,
   "metadata": {},
   "outputs": [],
   "source": [
    "\n",
    "rate = 0.002\n",
    "#loss_file = open('progress.dat', 'w', buffering=1)\n",
    "\n",
    "tbx, _ = u.get_batch(32, test=True, erode=0)\n",
    "for i in range(2500):\n",
    "    t1 = time.time()\n",
    "    rate = np.maximum(rate*.9998, 0.000005)\n",
    "    bx, bm = u.get_batch(64, erode=0)\n",
    "#     plt.figure(figsize=(2,2))\n",
    "#     plt.imshow(bm[0])\n",
    "    _, res, err = sess.run([u.opt, u.decoder_softmax, u.loss],\n",
    "                           feed_dict={images:bx, masks:bm, learning_rate:rate})\n",
    "    if i % 100 == 0:\n",
    "        print(i, err, err, res[0,:,:,:].min(), res[0,:,:,:].max(), rate)\n",
    "        nr = np.random.randint(0,16)\n",
    "        #nr = np.argmin(res[:,:,:,4].sum(axis=(1,2)))\n",
    "        print(nr)\n",
    "        \n",
    "        tres = sess.run(u.decoder_softmax,\n",
    "                           feed_dict={images:tbx, learning_rate:rate})\n",
    "        \n",
    "        plt.figure(figsize=(18,8))\n",
    "        plt.subplot(2,5,1)\n",
    "        plt.imshow(res[nr,:,:,0])\n",
    "        plt.subplot(2,5,2)\n",
    "        plt.imshow(res[nr,:,:,1])\n",
    "        plt.subplot(2,5,3)\n",
    "        plt.imshow(res[nr,:,:,2])\n",
    "        plt.subplot(2,5,4)\n",
    "        bxd = bx[nr,:,:,0]\n",
    "        bxd = (bxd - bxd.min())/(bxd.max() - bxd.min())\n",
    "        plt.imshow(bxd)\n",
    "        plt.subplot(2,5,5)\n",
    "        plt.imshow(bm[nr,:,:,:])\n",
    "        \n",
    "        plt.subplot(2,5,6)\n",
    "        plt.imshow(tres[nr,:,:,0])\n",
    "        plt.subplot(2,5,7)\n",
    "        plt.imshow(tres[nr,:,:,1])\n",
    "        plt.subplot(2,5,8)\n",
    "        plt.imshow(tres[nr,:,:,2])\n",
    "        plt.subplot(2,5,9)\n",
    "        bxd = tbx[nr,:,:,0]\n",
    "        bxd = (bxd - bxd.min())/(bxd.max() - bxd.min())\n",
    "    \n",
    "        plt.imshow(bxd)\n",
    "    \n",
    "        plt.show()\n",
    "        #plt.savefig(\"images/image{0:05d}\".format(i))\n",
    "    t2 = time.time()\n",
    "    if i % 10 == 0:\n",
    "        print(i, err, (t2 - t1), rate)\n"
   ]
  },
  {
   "cell_type": "code",
   "execution_count": null,
   "metadata": {},
   "outputs": [],
   "source": [
    "na = 13\n",
    "plt.figure(figsize=(14,6))\n",
    "plt.subplot(1,3,1)\n",
    "print(bm.shape)\n",
    "plt.imshow(res[na,:,:,0:3])\n",
    "plt.subplot(1,3,2)\n",
    "plt.imshow(bm[na,:,:,0:3])\n",
    "plt.subplot(1,3,3)\n",
    "plt.imshow(bx[na,:,:,0])\n"
   ]
  },
  {
   "cell_type": "code",
   "execution_count": null,
   "metadata": {},
   "outputs": [],
   "source": [
    "plt.hist(res[na,:,:,:].reshape((-1,3)))"
   ]
  },
  {
   "cell_type": "code",
   "execution_count": null,
   "metadata": {},
   "outputs": [],
   "source": [
    "test_tif = imread('/ssd1/cjw/Data/sez/RawTifs/16_hours_punched_overnight/NDExp_Point0008_Seq0008.tif')\n",
    "#test_tif = imread('/ssd1/cjw/Data/sez/RawTifs/NDExp_Point0007_Seq0007.tif')\n",
    "#test_tif = labels[-1,:,:,:] #imread('/ssd1/cjw/Data/sez/RawTifs/NDExp_Point0021_Seq0021.tif')\n",
    "ymax = test_tif.max(axis=(0,1), keepdims=True)\n",
    "ymin = test_tif.min(axis=(0,1), keepdims=True)\n",
    "ymean = test_tif.mean(axis=(0,1), keepdims=True)\n",
    "ystd = test_tif.std(axis=(0,1), keepdims=True)\n",
    "#test_tif = (test_tif - ymin)/(ymax - ymin + 0.00001)\n",
    "test_tif = (test_tif - ymean)/ystd\n",
    "test_tif.shape, ymin.shape\n",
    "test_tif = test_tif[:,:,-1]\n",
    "test_tif = np.expand_dims(test_tif, -1)"
   ]
  },
  {
   "cell_type": "code",
   "execution_count": null,
   "metadata": {},
   "outputs": [],
   "source": [
    "plt.imshow(test_tif[:,:,0])"
   ]
  },
  {
   "cell_type": "code",
   "execution_count": null,
   "metadata": {},
   "outputs": [],
   "source": [
    "def make_batch(data, start = 0):\n",
    "    tclist = list()\n",
    "    print(start)\n",
    "    ix = start\n",
    "    jy = start\n",
    "    for i in range(6):\n",
    "        jy = start\n",
    "        for j in range(6):\n",
    "            p = data[jy:jy + 256, ix:ix + 256,:]\n",
    "            p = np.expand_dims(p, 0)\n",
    "            tclist.append(p)\n",
    "            jy = jy + 256\n",
    "            #print(i, j, ix, jy)\n",
    "        ix += 256\n",
    "\n",
    "    tc = np.concatenate(tclist, axis=0)\n",
    "    return tc\n",
    "\n",
    "tc0 = make_batch(test_tif,start=0)\n",
    "tc1 = make_batch(test_tif, start=128)\n",
    "tc0.shape, tc1.shape"
   ]
  },
  {
   "cell_type": "code",
   "execution_count": null,
   "metadata": {},
   "outputs": [],
   "source": [
    "vres0 = sess.run(u.decoder_softmax,\n",
    "                feed_dict={images:tc0})\n",
    "\n",
    "vres1 = sess.run(u.decoder_softmax,\n",
    "                feed_dict={images:tc1})\n",
    "vres0.shape, vres1.shape"
   ]
  },
  {
   "cell_type": "code",
   "execution_count": null,
   "metadata": {},
   "outputs": [],
   "source": [
    "def reconstruct(v1, w, nx, ny, offset=0, pad=0):\n",
    "    p = np.zeros((ny*w + pad, nx*w + pad, 3), dtype=np.float32)\n",
    "\n",
    "    ix = offset\n",
    "    jy = offset\n",
    "    index = 0\n",
    "    for i in range(nx):\n",
    "        jy = offset\n",
    "        for j in range(ny):\n",
    "            p[jy:jy + 256, ix:ix + 256, :] = v1[index]\n",
    "            jy = jy + 256\n",
    "            index += 1\n",
    "            #print(i, j, ix, jy)\n",
    "        ix += 256\n",
    "    return p\n",
    "r0 = reconstruct(vres0, 256, 6, 6, offset=0, pad=128)\n",
    "r1 = reconstruct(vres1, 256, 6, 6, offset=128, pad = 128)\n",
    "\n",
    "r0 = np.expand_dims(r0, 0)\n",
    "r1 = np.expand_dims(r1, 0)\n",
    "r = np.concatenate([r0, r1])\n",
    "r  = r.max(axis=(0))\n",
    "r.shape, r.max()"
   ]
  },
  {
   "cell_type": "code",
   "execution_count": null,
   "metadata": {},
   "outputs": [],
   "source": [
    "\n",
    "plt.figure(figsize=(12,12))\n",
    "\n",
    "# az = r*0\n",
    "# az[:,:,0] = r[:,:,-1]\n",
    "# az[:,:,1] = r[:,:,-1]\n",
    "# az[:,:,2] = r[:,:,-1]\n",
    "# az = r - az\n",
    "\n",
    "#plt.subplot(1,3,1)\n",
    "plt.imshow(r[:,:,0:3]) #0[0,150:350,100:300,1])\n",
    "\n",
    "#plt.subplot(1,3,4)\n",
    "#plt.imshow(r0[0]) #[0,150:350,100:300,1])\n",
    "\n",
    "#plt.subplot(1,3,3)\n",
    "#plt.imshow(r1[0]) #[150:350,100:300,1])"
   ]
  },
  {
   "cell_type": "code",
   "execution_count": null,
   "metadata": {},
   "outputs": [],
   "source": [
    "plt.figure(figsize=(12,12))\n",
    "plt.imshow(test_tif[0:6*256+128, 0:6*256+128, 0])"
   ]
  },
  {
   "cell_type": "code",
   "execution_count": null,
   "metadata": {},
   "outputs": [],
   "source": [
    "plt.imshow(tc0[0,:,:,0])"
   ]
  },
  {
   "cell_type": "code",
   "execution_count": null,
   "metadata": {},
   "outputs": [],
   "source": [
    "import tifffile\n",
    "r.shape"
   ]
  },
  {
   "cell_type": "code",
   "execution_count": null,
   "metadata": {},
   "outputs": [],
   "source": [
    "tifffile.imsave('/scratch/cjw/Data/sez/unetout0017-2.tif', np.moveaxis(r, -1, 0))"
   ]
  },
  {
   "cell_type": "code",
   "execution_count": null,
   "metadata": {},
   "outputs": [],
   "source": [
    "from skimage.morphology import binary_erosion\n",
    "\n",
    "blab = labels[2, :,:,1]\n",
    "plt.subplot(1,2,1)\n",
    "plt.imshow(blab)\n",
    "plt.subplot(1,2,2)\n",
    "plt.imshow(binary_erosion(binary_erosion(blab)))\n",
    "labels.shape"
   ]
  },
  {
   "cell_type": "code",
   "execution_count": null,
   "metadata": {},
   "outputs": [],
   "source": [
    "plt.imshow(data[6,:,:,0:3])"
   ]
  },
  {
   "cell_type": "code",
   "execution_count": null,
   "metadata": {},
   "outputs": [],
   "source": [
    "!mkdir '/scratch/cjw/Data/sez/Checkpoints'"
   ]
  },
  {
   "cell_type": "code",
   "execution_count": null,
   "metadata": {},
   "outputs": [],
   "source": [
    "saver = tf.train.Saver()\n",
    "saver.save(sess, '/ssd1/cjw/Data/sez/Checkpoints/2019-02-20-transmitted/dnet_cat_checkpoint', global_step=2500)"
   ]
  },
  {
   "cell_type": "code",
   "execution_count": null,
   "metadata": {},
   "outputs": [],
   "source": []
  },
  {
   "cell_type": "code",
   "execution_count": null,
   "metadata": {},
   "outputs": [],
   "source": []
  }
 ],
 "metadata": {
  "kernelspec": {
   "display_name": "Python 3",
   "language": "python",
   "name": "python3"
  },
  "language_info": {
   "codemirror_mode": {
    "name": "ipython",
    "version": 3
   },
   "file_extension": ".py",
   "mimetype": "text/x-python",
   "name": "python",
   "nbconvert_exporter": "python",
   "pygments_lexer": "ipython3",
   "version": "3.6.4"
  }
 },
 "nbformat": 4,
 "nbformat_minor": 2
}
