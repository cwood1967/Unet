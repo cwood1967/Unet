{
 "cells": [
  {
   "cell_type": "code",
   "execution_count": null,
   "metadata": {},
   "outputs": [],
   "source": [
    "import time\n",
    "import sys\n",
    "\n",
    "sys.path.append('/home/cjw/Code/Unet')\n",
    "#sys.path.append('/media/cjw/PythonLib/Unet')\n",
    "from skimage.io import imread\n",
    "from skimage.transform import resize\n",
    "from matplotlib import pyplot as plt\n",
    "import numpy as np\n",
    "from scipy.ndimage.morphology import distance_transform_edt, binary_dilation\n",
    "from dnet import dnet2d\n",
    "\n",
    "%matplotlib inline"
   ]
  },
  {
   "cell_type": "code",
   "execution_count": null,
   "metadata": {},
   "outputs": [],
   "source": [
    "import tensorflow as tf"
   ]
  },
  {
   "cell_type": "code",
   "execution_count": null,
   "metadata": {},
   "outputs": [],
   "source": [
    "params = dict()\n",
    "\n",
    "params['width'] = 512\n",
    "params['height'] = 512\n",
    "params['nchannels'] = 1\n",
    "params['channels'] = [0]\n",
    "params['nepochs'] = [1]\n",
    "params['batchsize'] = [512]\n",
    "params['learning_rate'] = 0.001\n",
    "params['restore'] = False\n",
    "params['latent_size'] = 1\n",
    "params['net_sizes'] = [[32, 1, 1], [32, 3, 1], [32, 3, 2],\n",
    "                       [32, 3, 4], [32, 3, 6], [32, 3, 4], [32, 3, 2], [2, 1, 1]]\n",
    "params['droprate'] = 0.1\n",
    "params['stdev'] = 0.04"
   ]
  },
  {
   "cell_type": "code",
   "execution_count": null,
   "metadata": {},
   "outputs": [],
   "source": [
    "all_data_tif = imread('/ssd1/cjw/Data/EM/Training.tif_RotShift.tif')\n",
    "all_data_tif.shape"
   ]
  },
  {
   "cell_type": "code",
   "execution_count": null,
   "metadata": {},
   "outputs": [],
   "source": [
    "    \n",
    "## read in the data\n",
    "\n",
    "data_tif = all_data_tif[:,0, :, :]\n",
    "labels_tif = all_data_tif[:,1, :, :]\n",
    "labels_tif = binary_dilation(labels_tif).astype(labels_tif.dtype)\n",
    "#labels_tif = binary_dilation(labels_tif).astype(labels_tif.dtype)\n",
    "print(labels_tif.shape)\n",
    "\n",
    "#create the background channel for the labels\n",
    "labshape = labels_tif.shape\n",
    "\n",
    "temp = 0*labels_tif\n",
    "labels_tif = np.stack([labels_tif, temp], axis=-1)\n",
    "print(labels_tif.shape)\n",
    "\n",
    "#normalize images 0-1\n",
    "#try normalizing wit zero mean and equal sdev\n",
    "\n",
    "dmin = data_tif.min(axis=(1,2),keepdims=True)\n",
    "dmax = data_tif.max(axis=(1,2),keepdims=True)\n",
    "dmean = data_tif.mean(axis=(1,2),keepdims=True)\n",
    "dstd = data_tif.std(axis=(1,2),keepdims=True)\n",
    "\n",
    "#data = (data_tif - dmin)/(dmax - dmin)\n",
    "data = (data_tif - dmean)/dstd\n",
    "data = np.expand_dims(data, -1)\n",
    "labels = (labels_tif - labels_tif.min())/(labels_tif.max() - labels_tif.min())\n",
    "labels[:,:,:,-1] = (labels[:,:,:, 0] < .5).astype(np.float32)\n",
    "#put cells with both channels into channel 0\n",
    "# lsum = labels.sum(axis=(-1))\n",
    "# s2 = lsum > 1\n",
    "# s2 = s2.astype(np.float32)\n",
    "# labels[:,:,:,1] -= s2 \n",
    "data_tif.shape, data.shape, labels.shape, labels_tif.shape, labels.max(axis=(0,1,2))"
   ]
  },
  {
   "cell_type": "code",
   "execution_count": null,
   "metadata": {},
   "outputs": [],
   "source": [
    "plt.imshow(labels[0,:,:,1])\n",
    "(labels[:,:,:,1] > .5).dtype"
   ]
  },
  {
   "cell_type": "code",
   "execution_count": null,
   "metadata": {},
   "outputs": [],
   "source": []
  },
  {
   "cell_type": "code",
   "execution_count": null,
   "metadata": {},
   "outputs": [],
   "source": []
  },
  {
   "cell_type": "code",
   "execution_count": null,
   "metadata": {},
   "outputs": [],
   "source": [
    "\n",
    "tf.reset_default_graph()\n",
    "u = dnet2d.dnet2d(params)\n",
    "u.x = data\n",
    "u.y = labels"
   ]
  },
  {
   "cell_type": "code",
   "execution_count": null,
   "metadata": {},
   "outputs": [],
   "source": []
  },
  {
   "cell_type": "code",
   "execution_count": null,
   "metadata": {},
   "outputs": [],
   "source": [
    "w = 512"
   ]
  },
  {
   "cell_type": "code",
   "execution_count": null,
   "metadata": {},
   "outputs": [],
   "source": [
    "tf.reset_default_graph()\n",
    "images = tf.placeholder(tf.float32, (None, w, w, params['nchannels']))\n",
    "masks = tf.placeholder(tf.float32, (None, w, w, labels.shape[-1]))\n",
    "learning_rate = tf.placeholder(tf.float32, ())\n",
    "u.learning_rate = learning_rate"
   ]
  },
  {
   "cell_type": "code",
   "execution_count": null,
   "metadata": {},
   "outputs": [],
   "source": [
    "enc = u.create_dnet(images, True)"
   ]
  },
  {
   "cell_type": "code",
   "execution_count": null,
   "metadata": {},
   "outputs": [],
   "source": [
    "u.net"
   ]
  },
  {
   "cell_type": "code",
   "execution_count": null,
   "metadata": {},
   "outputs": [],
   "source": [
    "#d = u.create_decoder()\n",
    "u.create_loss(masks)\n",
    "u.create_opt()"
   ]
  },
  {
   "cell_type": "code",
   "execution_count": null,
   "metadata": {},
   "outputs": [],
   "source": [
    "u.x.shape, u.y.shape"
   ]
  },
  {
   "cell_type": "code",
   "execution_count": null,
   "metadata": {},
   "outputs": [],
   "source": [
    "#u.set_validation(20)\n",
    "u.xtrain = u.x[0:375,:,:]\n",
    "u.ytrain = u.y[0:375,:,:]\n",
    "u.xtest = u.x[375:,:,:]\n",
    "u.ytest = u.y[375:,:,:]"
   ]
  },
  {
   "cell_type": "code",
   "execution_count": null,
   "metadata": {},
   "outputs": [],
   "source": [
    "sess = tf.Session()"
   ]
  },
  {
   "cell_type": "code",
   "execution_count": null,
   "metadata": {},
   "outputs": [],
   "source": [
    "# tf.summary.scalar('loss', u.loss)\n",
    "# si = tf.slice(u.decoder, [5, 0, 0, 0, 0], [10,1,256,256, 1])\n",
    "\n",
    "# si = si[:,:,:,:,0]\n",
    "# print(si)\n",
    "# tf.summary.image('res', si, max_outputs=1)    \n",
    "# merged = tf.summary.merge_all()\n",
    "\n",
    "\n",
    "\n",
    "# logdir = \"logdir\"\n",
    "# logwriter = tf.summary.FileWriter(logdir, sess.graph)"
   ]
  },
  {
   "cell_type": "code",
   "execution_count": null,
   "metadata": {},
   "outputs": [],
   "source": [
    "sess.run(tf.global_variables_initializer())"
   ]
  },
  {
   "cell_type": "code",
   "execution_count": null,
   "metadata": {},
   "outputs": [],
   "source": []
  },
  {
   "cell_type": "code",
   "execution_count": null,
   "metadata": {},
   "outputs": [],
   "source": []
  },
  {
   "cell_type": "code",
   "execution_count": null,
   "metadata": {},
   "outputs": [],
   "source": [
    "u.stdev = 0.1\n",
    "#u.learning_rate = 0.0001"
   ]
  },
  {
   "cell_type": "code",
   "execution_count": null,
   "metadata": {},
   "outputs": [],
   "source": [
    "\n",
    "rate = 0.005\n",
    "#loss_file = open('progress.dat', 'w', buffering=1)\n",
    "\n",
    "tbx, tbm = u.get_simple_batch(16)\n",
    "for i in range(2500):\n",
    "    t1 = time.time()\n",
    "    rate = np.maximum(rate*.9999999, 0.000005)\n",
    "    bx, bm = u.get_simple_batch(16)\n",
    "#     plt.figure(figsize=(2,2))\n",
    "#     plt.imshow(bm[0])\n",
    "    _, res, err = sess.run([u.opt, u.decoder_softmax, u.loss],\n",
    "                           feed_dict={images:bx, masks:bm, learning_rate:rate})\n",
    "    if i % 100 == 0:\n",
    "        print(i, err, err, res[0,:,:,:].min(), res[0,:,:,:].max(), rate)\n",
    "        nr = np.random.randint(0,16)\n",
    "        #nr = np.argmin(res[:,:,:,4].sum(axis=(1,2)))\n",
    "        print(nr)\n",
    "        \n",
    "        tres = sess.run(u.decoder_softmax,\n",
    "                           feed_dict={images:tbx, learning_rate:rate})\n",
    "        \n",
    "        plt.figure(figsize=(24,12))\n",
    "        plt.subplot(2,5,1)\n",
    "        plt.imshow(res[nr,:,:,0])\n",
    "        plt.subplot(2,5,2)\n",
    "        plt.imshow(res[nr,:,:,1])\n",
    "        plt.subplot(2,5,3)\n",
    "        plt.imshow(bm[nr,:,:,0])\n",
    "        plt.subplot(2,5,4)\n",
    "        plt.imshow(bm[nr,:,:,1])\n",
    "        plt.subplot(2,5,5)\n",
    "        bxd = bx[nr,:,:,0]\n",
    "        bxd = (bxd - bxd.min())/(bxd.max() - bxd.min())\n",
    "        plt.imshow(bxd)\n",
    "        \n",
    "        plt.subplot(2,5,6)\n",
    "        plt.imshow(tres[nr,:,:,0])\n",
    "        plt.subplot(2,5,7)\n",
    "        plt.imshow(tres[nr,:,:,1])\n",
    "        plt.subplot(2,5,8)\n",
    "        plt.imshow(tbm[nr,:,:,0])\n",
    "        plt.subplot(2,5,9)\n",
    "        plt.imshow(tbm[nr,:,:,1])\n",
    "        plt.subplot(2,5,10)\n",
    "        bxd = tbx[nr,:,:,0]\n",
    "        bxd = (bxd - bxd.min())/(bxd.max() - bxd.min())\n",
    "        plt.imshow(bxd)\n",
    "        \n",
    "    \n",
    "#         plt.imshow(res[nr,:,:,5])\n",
    "#         plt.subplot(2,5,7)\n",
    "#         plt.imshow(res[nr,:,:,6])\n",
    "#         plt.subplot(2,5,8)\n",
    "#         plt.imshow(res[nr,:,:,7])\n",
    "#         plt.subplot(2,5,9)\n",
    "#         plt.imshow(res[nr,:,:,8])\n",
    "#         plt.subplot(1,6,4)\n",
    "#         plt.imshow(res[nr,:,:,1])\n",
    "#         plt.subplot(1,6,5)\n",
    "#         plt.imshow(bm[nr,:,:,1])\n",
    "#         plt.subplot(1,6,6)\n",
    "#         plt.imshow(bx[nr,:,:,1])\n",
    "        plt.show()\n",
    "        #plt.savefig(\"images/image{0:05d}\".format(i))\n",
    "    t2 = time.time()\n",
    "    if i % 10 == 0:\n",
    "        print(i, err, (t2 - t1), rate)\n"
   ]
  },
  {
   "cell_type": "code",
   "execution_count": null,
   "metadata": {},
   "outputs": [],
   "source": [
    "rmx = res[2,:,:,0].max(axis=(0))\n",
    "rmx.shape, rmx.max(), rmx.min()"
   ]
  },
  {
   "cell_type": "code",
   "execution_count": null,
   "metadata": {},
   "outputs": [],
   "source": [
    "na = 10\n",
    "plt.figure(figsize=(16,8))\n",
    "plt.subplot(1,3,1)\n",
    "print(tbm.shape)\n",
    "plt.imshow((tres[na,:,:,0]))\n",
    "plt.subplot(1,3,2)\n",
    "plt.imshow(tbm[na,:,:,0])\n",
    "plt.subplot(1,3,3)\n",
    "plt.imshow(tbx[na,:,:,0])\n"
   ]
  },
  {
   "cell_type": "code",
   "execution_count": null,
   "metadata": {},
   "outputs": [],
   "source": []
  },
  {
   "cell_type": "code",
   "execution_count": null,
   "metadata": {},
   "outputs": [],
   "source": [
    "#test_tif = imread('/ssd1/cjw/Data/sez/RawTifs/16_hours_punched_overnight/NDExp_Point0008_Seq0008.tif')\n",
    "test_tif = u.xtest\n",
    "#test_tif = labels[-1,:,:,:] #imread('/ssd1/cjw/Data/sez/RawTifs/NDExp_Point0021_Seq0021.tif')\n",
    "# ymax = test_tif.max(axis=(0,1), keepdims=True)\n",
    "# ymin = test_tif.min(axis=(0,1), keepdims=True)\n",
    "# ymean = test_tif.mean(axis=(0,1), keepdims=True)\n",
    "# ystd = test_tif.std(axis=(0,1), keepdims=True)\n",
    "#test_tif = (test_tif - ymin)/(ymax - ymin + 0.00001)\n",
    "test_tif = (test_tif - ymean)/ystd\n",
    "test_tif.shape, ymin.shape\n",
    "\n",
    "vres0 = sess.run(u.decoder_softmax,\n",
    "                feed_dict={images:u.xtest})\n",
    "\n",
    "vres0.shape"
   ]
  },
  {
   "cell_type": "code",
   "execution_count": null,
   "metadata": {},
   "outputs": [],
   "source": [
    "na = 10\n",
    "plt.figure(figsize=(24,12))\n",
    "plt.subplot(1,3,1)\n",
    "plt.imshow(u.ytest[na, :,:,0])\n",
    "plt.subplot(1,3,2)\n",
    "plt.imshow(vres0[na,:,:,0])\n",
    "plt.subplot(1,3,3)\n",
    "plt.imshow(u.xtest[na,:,:,0])"
   ]
  },
  {
   "cell_type": "code",
   "execution_count": null,
   "metadata": {},
   "outputs": [],
   "source": [
    "def make_batch(data, start = 0):\n",
    "    tclist = list()\n",
    "    print(start)\n",
    "    ix = start\n",
    "    jy = start\n",
    "    for i in range(6):\n",
    "        jy = start\n",
    "        for j in range(6):\n",
    "            p = data[jy:jy + 256, ix:ix + 256,:]\n",
    "            p = np.expand_dims(p, 0)\n",
    "            tclist.append(p)\n",
    "            jy = jy + 256\n",
    "            #print(i, j, ix, jy)\n",
    "        ix += 256\n",
    "\n",
    "    tc = np.concatenate(tclist, axis=0)\n",
    "    return tc\n",
    "\n",
    "tc0 = make_batch(test_tif,start=0)\n",
    "tc1 = make_batch(test_tif, start=128)\n",
    "tc0.shape, tc1.shape"
   ]
  },
  {
   "cell_type": "code",
   "execution_count": null,
   "metadata": {},
   "outputs": [],
   "source": [
    "vres0 = sess.run(u.decoder_softmax,\n",
    "                feed_dict={images:tc0})\n",
    "\n",
    "vres1 = sess.run(u.decoder_softmax,\n",
    "                feed_dict={images:tc1})\n",
    "vres0.shape, vres1.shape"
   ]
  },
  {
   "cell_type": "code",
   "execution_count": null,
   "metadata": {},
   "outputs": [],
   "source": [
    "def reconstruct(v1, w, nx, ny, offset=0, pad=0):\n",
    "    p = np.zeros((ny*w + pad, nx*w + pad, 5), dtype=np.float32)\n",
    "\n",
    "    ix = offset\n",
    "    jy = offset\n",
    "    index = 0\n",
    "    for i in range(nx):\n",
    "        jy = offset\n",
    "        for j in range(ny):\n",
    "            p[jy:jy + 256, ix:ix + 256, :] = v1[index]\n",
    "            jy = jy + 256\n",
    "            index += 1\n",
    "            #print(i, j, ix, jy)\n",
    "        ix += 256\n",
    "    return p\n",
    "r0 = reconstruct(vres0, 256, 6, 6, offset=0, pad=128)\n",
    "r1 = reconstruct(vres1, 256, 6, 6, offset=128, pad = 128)\n",
    "\n",
    "r0 = np.expand_dims(r0, 0)\n",
    "r1 = np.expand_dims(r1, 0)\n",
    "r = np.concatenate([r0, r1])\n",
    "r  = r.max(axis=(0))\n",
    "r.shape, r.max()"
   ]
  },
  {
   "cell_type": "code",
   "execution_count": null,
   "metadata": {},
   "outputs": [],
   "source": [
    "\n",
    "plt.figure(figsize=(12,12))\n",
    "\n",
    "# az = r*0\n",
    "# az[:,:,0] = r[:,:,-1]\n",
    "# az[:,:,1] = r[:,:,-1]\n",
    "# az[:,:,2] = r[:,:,-1]\n",
    "# az = r - az\n",
    "\n",
    "#plt.subplot(1,3,1)\n",
    "plt.imshow(r[:,:,0:3]) #0[0,150:350,100:300,1])\n",
    "\n",
    "#plt.subplot(1,3,4)\n",
    "#plt.imshow(r0[0]) #[0,150:350,100:300,1])\n",
    "\n",
    "#plt.subplot(1,3,3)\n",
    "#plt.imshow(r1[0]) #[150:350,100:300,1])"
   ]
  },
  {
   "cell_type": "code",
   "execution_count": null,
   "metadata": {},
   "outputs": [],
   "source": [
    "plt.figure(figsize=(12,12))\n",
    "plt.imshow(test_tif[0:6*256+128, 0:6*256+128, :])"
   ]
  },
  {
   "cell_type": "code",
   "execution_count": null,
   "metadata": {},
   "outputs": [],
   "source": [
    "plt.imshow(tc0[0,:,:,0])"
   ]
  },
  {
   "cell_type": "code",
   "execution_count": null,
   "metadata": {},
   "outputs": [],
   "source": [
    "import tifffile\n",
    "r.shape"
   ]
  },
  {
   "cell_type": "code",
   "execution_count": null,
   "metadata": {},
   "outputs": [],
   "source": [
    "tifffile.imsave('/ssd1/cjw/Data/sez/unetout0017-2.tif', np.moveaxis(r, -1, 0))"
   ]
  },
  {
   "cell_type": "code",
   "execution_count": null,
   "metadata": {},
   "outputs": [],
   "source": [
    "from skimage.morphology import binary_erosion\n",
    "\n",
    "blab = labels[2, :,:,1]\n",
    "plt.subplot(1,2,1)\n",
    "plt.imshow(blab)\n",
    "plt.subplot(1,2,2)\n",
    "plt.imshow(binary_erosion(binary_erosion(blab)))\n",
    "labels.shape"
   ]
  },
  {
   "cell_type": "code",
   "execution_count": null,
   "metadata": {},
   "outputs": [],
   "source": [
    "plt.imshow(data[6,:,:,0:3])"
   ]
  },
  {
   "cell_type": "code",
   "execution_count": null,
   "metadata": {},
   "outputs": [],
   "source": [
    "!%mkdir '/ssd1/cjw/sez/unet_checkpoint'"
   ]
  },
  {
   "cell_type": "code",
   "execution_count": null,
   "metadata": {},
   "outputs": [],
   "source": [
    "saver = tf.train.Saver()\n",
    "saver.save(sess, '/ssd1/cjw/sez/Checkpoints/2019-02-04-zero-mean/unet_checkpoint', global_step=5000)"
   ]
  },
  {
   "cell_type": "code",
   "execution_count": null,
   "metadata": {},
   "outputs": [],
   "source": []
  },
  {
   "cell_type": "code",
   "execution_count": null,
   "metadata": {},
   "outputs": [],
   "source": []
  }
 ],
 "metadata": {
  "kernelspec": {
   "display_name": "Python 3",
   "language": "python",
   "name": "python3"
  },
  "language_info": {
   "codemirror_mode": {
    "name": "ipython",
    "version": 3
   },
   "file_extension": ".py",
   "mimetype": "text/x-python",
   "name": "python",
   "nbconvert_exporter": "python",
   "pygments_lexer": "ipython3",
   "version": "3.6.4"
  }
 },
 "nbformat": 4,
 "nbformat_minor": 2
}
