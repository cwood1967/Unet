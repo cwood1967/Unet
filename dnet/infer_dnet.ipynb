{
 "cells": [
  {
   "cell_type": "code",
   "execution_count": null,
   "metadata": {},
   "outputs": [],
   "source": [
    "import tensorflow as tf\n",
    "import numpy as np\n",
    "from matplotlib import pyplot as plt\n",
    "from skimage.io import imread"
   ]
  },
  {
   "cell_type": "code",
   "execution_count": null,
   "metadata": {},
   "outputs": [],
   "source": [
    "#checkpoint = '/Users/cjw/Data/sez/sez_checkpoints/2019-01-31/unet_checkpoint-3000'\n",
    "checkpoint = '/ssd1/cjw/Data/sez/Checkpoints/2019-03-07-ft/dnet_cat_checkpoint-2500'\n",
    "cpmeta = checkpoint + '.meta'"
   ]
  },
  {
   "cell_type": "code",
   "execution_count": null,
   "metadata": {},
   "outputs": [],
   "source": [
    "sess = tf.Session()\n",
    "sess.run(tf.global_variables_initializer())\n",
    "saver = tf.train.import_meta_graph(cpmeta)\n",
    "saver.restore(sess, checkpoint)"
   ]
  },
  {
   "cell_type": "code",
   "execution_count": null,
   "metadata": {},
   "outputs": [],
   "source": [
    "g = tf.get_default_graph()\n",
    "ops = g.get_operations()\n",
    "for op in ops:\n",
    "    try:\n",
    "        print(op.name, op.outputs, len(op.outputs))\n",
    "    except:\n",
    "        print(op.name, \"no output\")\n",
    "    print('------')"
   ]
  },
  {
   "cell_type": "code",
   "execution_count": null,
   "metadata": {},
   "outputs": [],
   "source": [
    "decoder = sess.graph.get_tensor_by_name('decoder-softmax:0')\n",
    "images = sess.graph.get_tensor_by_name('Placeholder:0')"
   ]
  },
  {
   "cell_type": "code",
   "execution_count": null,
   "metadata": {},
   "outputs": [],
   "source": [
    "# data_raw = imread('/Users/cjw/Data/sez/RawTifs/10_hours_punched_overnight/NDExp_Point0017_Seq0017.tif')\n",
    "data_raw = imread('/ssd1/cjw/Data/sez/pombeXkambucha-3.tif')\n",
    "data_raw = data_raw[:,:,:]\n",
    "# data_raw = np.expand_dims(data_raw, -1)\n",
    "dmin = data_raw.min(axis=(0,1),keepdims=True)\n",
    "dmax = data_raw.max(axis=(0,1),keepdims=True)\n",
    "#data = (data_raw - dmin)/(dmax - dmin)\n",
    "\n",
    "ymean = data_raw.mean(axis=(0,1), keepdims=True)\n",
    "ystd = data_raw.std(axis=(0,1), keepdims=True)\n",
    "#test_tif = (test_tif - ymin)/(ymax - ymin + 0.00001)\n",
    "data = (data_raw - ymean)/ystd\n",
    "\n",
    "plt.figure(figsize=(16,16))\n",
    "plt.imshow(data[:,:,1] + data[:,:,0])\n",
    "print(data_raw.shape, dmin.shape, dmax.shape)"
   ]
  },
  {
   "cell_type": "code",
   "execution_count": null,
   "metadata": {},
   "outputs": [],
   "source": []
  },
  {
   "cell_type": "code",
   "execution_count": null,
   "metadata": {},
   "outputs": [],
   "source": [
    "def decode(patches):\n",
    "    ds = sess.run(decoder, feed_dict={images:patches})\n",
    "    return ds\n",
    "\n",
    "        \n",
    "def image_to_patches(image, w):\n",
    "    \n",
    "    ny, nx, nc = image.shape\n",
    "    \n",
    "    patch_list = list()\n",
    "    xmax = 0\n",
    "    ymax = 0\n",
    "    xok = True\n",
    "    yok = True\n",
    "    while xok:\n",
    "        yok = True\n",
    "        ymax = 0\n",
    "        xs = xmax\n",
    "        xmax += w\n",
    "        if xmax >= nx:\n",
    "            xmax = nx\n",
    "            xs = nx - w\n",
    "            xok = False\n",
    "        while yok:\n",
    "            ys = ymax\n",
    "            ymax += w\n",
    "            if ymax > ny:\n",
    "                ymax = ny\n",
    "                ys = ny - w\n",
    "                yok = False\n",
    "            #print(ys, ymax, yok, xs, xmax, xok)\n",
    "            p = np.expand_dims(image[ys:ymax, xs:xmax, :], 0)\n",
    "            patch_list.append(p)\n",
    "    \n",
    "    patches = np.concatenate(patch_list, axis=0)\n",
    "    print(patches.shape)\n",
    "    return  patches\n",
    "\n",
    "def patches_to_image(patches, w, nx, ny):\n",
    "    \n",
    "    image = np.zeros((ny, nx, patches.shape[-1]), dtype=patches.dtype)\n",
    "    xmax = 0\n",
    "    ymax = 0\n",
    "    xok = True\n",
    "    yok = True\n",
    "    patch_index = 0\n",
    "    while xok:\n",
    "        ymax = 0\n",
    "        yok = True\n",
    "        xs = xmax\n",
    "        xmax += w\n",
    "        if xmax >= nx:\n",
    "            xmax = nx\n",
    "            xs = nx - w\n",
    "            xok = False\n",
    "        while yok:\n",
    "            ys = ymax\n",
    "            ymax += w\n",
    "            if ymax > ny:\n",
    "                ymax = ny\n",
    "                ys = ny - w\n",
    "                yok = False\n",
    "            \n",
    "            image[ys:ymax, xs:xmax, :] = patches[patch_index]\n",
    "            patch_index += 1\n",
    "            #print(patch_index, ys, ymax, xs, xmax, yok, xok)\n",
    "    return image"
   ]
  },
  {
   "cell_type": "code",
   "execution_count": null,
   "metadata": {},
   "outputs": [],
   "source": [
    "import time\n",
    "\n",
    "t1 = time.time()\n",
    "p = image_to_patches(data, 256)\n",
    "d2 = data[128:, 128:, :]\n",
    "p2 = image_to_patches(d2, 256)\n",
    "dp = decode(p)\n",
    "dp2 = decode(p2)\n",
    "ndp = dp.shape[0]\n",
    "\n",
    "dp[:,0:2,:,:] = 0\n",
    "dp[:,:,0:2,:] = 0\n",
    "dp[:,-2:-1,:,:] = 0\n",
    "dp[:,:,-2:-1,:] = 0\n",
    "\n",
    "dp2[:,0:2,:,:] = 0\n",
    "dp2[:,:,0:2,:] = 0\n",
    "dp2[:,-2:-1,:,:] = 0\n",
    "dp2[:,:,-2:-1,:] = 0\n",
    "\n",
    "r1 = patches_to_image(dp, 256, data.shape[1] , data.shape[0])\n",
    "r2 = patches_to_image(dp2, 256, data.shape[1] - 128, data.shape[0] - 128)\n",
    "\n",
    "rr2 = r1*0\n",
    "rr2[128:, 128:, :] = r2\n",
    "\n",
    "rstack = np.stack((r1, rr2), axis=0)\n",
    "\n",
    "r = rstack.max(axis=0)\n",
    "\n",
    "print(time.time()  - t1)\n"
   ]
  },
  {
   "cell_type": "code",
   "execution_count": null,
   "metadata": {},
   "outputs": [],
   "source": [
    "#plt.cla()\n",
    "tr = r > .5\n",
    "#tr = tr.astype(np.int32)\n",
    "#tr = 255*tr\n",
    "print(tr.shape)\n",
    "plt.figure(figsize=(16, 16))\n",
    "\n",
    "plt.imshow(r[:,:,1])\n"
   ]
  },
  {
   "cell_type": "code",
   "execution_count": null,
   "metadata": {},
   "outputs": [],
   "source": [
    "import tifffile\n",
    "tifffile.imsave('/ssd1/cjw/Data/sez/pk-3.tif', np.moveaxis(r, -1, 0))"
   ]
  },
  {
   "cell_type": "code",
   "execution_count": null,
   "metadata": {},
   "outputs": [],
   "source": [
    "xg = 900 + 128\n",
    "yg = 700\n",
    "\n",
    "dr = np.expand_dims(data[yg:yg + 256, xg:xg+256,:], 0)\n",
    "# dr = np.expand_dims(dr, -1)\n",
    "da = decode(dr)\n",
    "print(da.shape)\n",
    "plt.imshow(((0*da[0,:,:,0] + da[0,:,:,1])/1))"
   ]
  },
  {
   "cell_type": "code",
   "execution_count": null,
   "metadata": {},
   "outputs": [],
   "source": []
  }
 ],
 "metadata": {
  "kernelspec": {
   "display_name": "Python 3",
   "language": "python",
   "name": "python3"
  },
  "language_info": {
   "codemirror_mode": {
    "name": "ipython",
    "version": 3
   },
   "file_extension": ".py",
   "mimetype": "text/x-python",
   "name": "python",
   "nbconvert_exporter": "python",
   "pygments_lexer": "ipython3",
   "version": "3.6.4"
  }
 },
 "nbformat": 4,
 "nbformat_minor": 2
}
